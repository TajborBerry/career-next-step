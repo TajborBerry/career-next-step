{
 "cells": [
  {
   "cell_type": "code",
   "execution_count": 1,
   "id": "74510323",
   "metadata": {},
   "outputs": [
    {
     "name": "stdout",
     "output_type": "stream",
     "text": [
      "Collecting pandas\n",
      "  Downloading pandas-2.2.3-cp310-cp310-win_amd64.whl.metadata (19 kB)\n",
      "Collecting matplotlib\n",
      "  Downloading matplotlib-3.10.1-cp310-cp310-win_amd64.whl.metadata (11 kB)\n",
      "Collecting seaborn\n",
      "  Downloading seaborn-0.13.2-py3-none-any.whl.metadata (5.4 kB)\n",
      "Collecting scikit-learn\n",
      "  Downloading scikit_learn-1.6.1-cp310-cp310-win_amd64.whl.metadata (15 kB)\n",
      "Collecting numpy>=1.22.4 (from pandas)\n",
      "  Downloading numpy-2.2.4-cp310-cp310-win_amd64.whl.metadata (60 kB)\n",
      "Requirement already satisfied: python-dateutil>=2.8.2 in c:\\tibi\\programing\\career_plan\\career-next-step\\.venv\\lib\\site-packages (from pandas) (2.9.0.post0)\n",
      "Collecting pytz>=2020.1 (from pandas)\n",
      "  Downloading pytz-2025.2-py2.py3-none-any.whl.metadata (22 kB)\n",
      "Collecting tzdata>=2022.7 (from pandas)\n",
      "  Downloading tzdata-2025.2-py2.py3-none-any.whl.metadata (1.4 kB)\n",
      "Collecting contourpy>=1.0.1 (from matplotlib)\n",
      "  Downloading contourpy-1.3.2-cp310-cp310-win_amd64.whl.metadata (5.5 kB)\n",
      "Collecting cycler>=0.10 (from matplotlib)\n",
      "  Downloading cycler-0.12.1-py3-none-any.whl.metadata (3.8 kB)\n",
      "Collecting fonttools>=4.22.0 (from matplotlib)\n",
      "  Downloading fonttools-4.57.0-cp310-cp310-win_amd64.whl.metadata (104 kB)\n",
      "Collecting kiwisolver>=1.3.1 (from matplotlib)\n",
      "  Downloading kiwisolver-1.4.8-cp310-cp310-win_amd64.whl.metadata (6.3 kB)\n",
      "Requirement already satisfied: packaging>=20.0 in c:\\tibi\\programing\\career_plan\\career-next-step\\.venv\\lib\\site-packages (from matplotlib) (24.2)\n",
      "Collecting pillow>=8 (from matplotlib)\n",
      "  Downloading pillow-11.2.1-cp310-cp310-win_amd64.whl.metadata (9.1 kB)\n",
      "Collecting pyparsing>=2.3.1 (from matplotlib)\n",
      "  Downloading pyparsing-3.2.3-py3-none-any.whl.metadata (5.0 kB)\n",
      "Collecting scipy>=1.6.0 (from scikit-learn)\n",
      "  Downloading scipy-1.15.2-cp310-cp310-win_amd64.whl.metadata (60 kB)\n",
      "Collecting joblib>=1.2.0 (from scikit-learn)\n",
      "  Downloading joblib-1.4.2-py3-none-any.whl.metadata (5.4 kB)\n",
      "Collecting threadpoolctl>=3.1.0 (from scikit-learn)\n",
      "  Downloading threadpoolctl-3.6.0-py3-none-any.whl.metadata (13 kB)\n",
      "Requirement already satisfied: six>=1.5 in c:\\tibi\\programing\\career_plan\\career-next-step\\.venv\\lib\\site-packages (from python-dateutil>=2.8.2->pandas) (1.17.0)\n",
      "Downloading pandas-2.2.3-cp310-cp310-win_amd64.whl (11.6 MB)\n",
      "   ---------------------------------------- 0.0/11.6 MB ? eta -:--:--\n",
      "   ----- ---------------------------------- 1.6/11.6 MB 9.3 MB/s eta 0:00:02\n",
      "   ------------- -------------------------- 3.9/11.6 MB 9.8 MB/s eta 0:00:01\n",
      "   --------------------- ------------------ 6.3/11.6 MB 10.2 MB/s eta 0:00:01\n",
      "   ----------------------------- ---------- 8.7/11.6 MB 10.5 MB/s eta 0:00:01\n",
      "   ------------------------------------- -- 10.7/11.6 MB 10.5 MB/s eta 0:00:01\n",
      "   ---------------------------------------- 11.6/11.6 MB 10.2 MB/s eta 0:00:00\n",
      "Downloading matplotlib-3.10.1-cp310-cp310-win_amd64.whl (8.1 MB)\n",
      "   ---------------------------------------- 0.0/8.1 MB ? eta -:--:--\n",
      "   ---------- ----------------------------- 2.1/8.1 MB 10.7 MB/s eta 0:00:01\n",
      "   -------------------- ------------------- 4.2/8.1 MB 11.0 MB/s eta 0:00:01\n",
      "   --------------------------------- ------ 6.8/8.1 MB 11.3 MB/s eta 0:00:01\n",
      "   ---------------------------------------- 8.1/8.1 MB 11.1 MB/s eta 0:00:00\n",
      "Downloading seaborn-0.13.2-py3-none-any.whl (294 kB)\n",
      "Downloading scikit_learn-1.6.1-cp310-cp310-win_amd64.whl (11.1 MB)\n",
      "   ---------------------------------------- 0.0/11.1 MB ? eta -:--:--\n",
      "   ------- -------------------------------- 2.1/11.1 MB 10.7 MB/s eta 0:00:01\n",
      "   --------------- ------------------------ 4.2/11.1 MB 10.5 MB/s eta 0:00:01\n",
      "   ---------------------- ----------------- 6.3/11.1 MB 10.4 MB/s eta 0:00:01\n",
      "   ------------------------------ --------- 8.4/11.1 MB 10.2 MB/s eta 0:00:01\n",
      "   -------------------------------------- - 10.7/11.1 MB 10.3 MB/s eta 0:00:01\n",
      "   ---------------------------------------- 11.1/11.1 MB 10.1 MB/s eta 0:00:00\n",
      "Downloading contourpy-1.3.2-cp310-cp310-win_amd64.whl (221 kB)\n",
      "Downloading cycler-0.12.1-py3-none-any.whl (8.3 kB)\n",
      "Downloading fonttools-4.57.0-cp310-cp310-win_amd64.whl (2.2 MB)\n",
      "   ---------------------------------------- 0.0/2.2 MB ? eta -:--:--\n",
      "   ---------------------------------------- 2.2/2.2 MB 11.3 MB/s eta 0:00:00\n",
      "Downloading joblib-1.4.2-py3-none-any.whl (301 kB)\n",
      "Downloading kiwisolver-1.4.8-cp310-cp310-win_amd64.whl (71 kB)\n",
      "Downloading numpy-2.2.4-cp310-cp310-win_amd64.whl (12.9 MB)\n",
      "   ---------------------------------------- 0.0/12.9 MB ? eta -:--:--\n",
      "   ------ --------------------------------- 2.1/12.9 MB 10.7 MB/s eta 0:00:02\n",
      "   ------------- -------------------------- 4.5/12.9 MB 10.7 MB/s eta 0:00:01\n",
      "   -------------------- ------------------- 6.6/12.9 MB 10.3 MB/s eta 0:00:01\n",
      "   --------------------------- ------------ 8.9/12.9 MB 10.4 MB/s eta 0:00:01\n",
      "   ---------------------------------- ----- 11.3/12.9 MB 10.7 MB/s eta 0:00:01\n",
      "   ---------------------------------------- 12.9/12.9 MB 10.5 MB/s eta 0:00:00\n",
      "Downloading pillow-11.2.1-cp310-cp310-win_amd64.whl (2.7 MB)\n",
      "   ---------------------------------------- 0.0/2.7 MB ? eta -:--:--\n",
      "   ------------------------------- -------- 2.1/2.7 MB 10.7 MB/s eta 0:00:01\n",
      "   ---------------------------------------- 2.7/2.7 MB 10.3 MB/s eta 0:00:00\n",
      "Downloading pyparsing-3.2.3-py3-none-any.whl (111 kB)\n",
      "Downloading pytz-2025.2-py2.py3-none-any.whl (509 kB)\n",
      "Downloading scipy-1.15.2-cp310-cp310-win_amd64.whl (41.2 MB)\n",
      "   ---------------------------------------- 0.0/41.2 MB ? eta -:--:--\n",
      "   -- ------------------------------------- 2.1/41.2 MB 10.7 MB/s eta 0:00:04\n",
      "   ---- ----------------------------------- 4.5/41.2 MB 10.7 MB/s eta 0:00:04\n",
      "   ------ --------------------------------- 6.6/41.2 MB 10.3 MB/s eta 0:00:04\n",
      "   -------- ------------------------------- 8.9/41.2 MB 10.6 MB/s eta 0:00:04\n",
      "   ---------- ----------------------------- 11.3/41.2 MB 10.7 MB/s eta 0:00:03\n",
      "   ------------ --------------------------- 13.4/41.2 MB 10.6 MB/s eta 0:00:03\n",
      "   --------------- ------------------------ 15.7/41.2 MB 10.5 MB/s eta 0:00:03\n",
      "   ----------------- ---------------------- 17.8/41.2 MB 10.5 MB/s eta 0:00:03\n",
      "   ------------------- -------------------- 19.9/41.2 MB 10.4 MB/s eta 0:00:03\n",
      "   --------------------- ------------------ 22.3/41.2 MB 10.4 MB/s eta 0:00:02\n",
      "   ----------------------- ---------------- 24.4/41.2 MB 10.4 MB/s eta 0:00:02\n",
      "   ------------------------- -------------- 26.7/41.2 MB 10.4 MB/s eta 0:00:02\n",
      "   ---------------------------- ----------- 29.1/41.2 MB 10.5 MB/s eta 0:00:02\n",
      "   ------------------------------ --------- 30.9/41.2 MB 10.4 MB/s eta 0:00:01\n",
      "   -------------------------------- ------- 33.0/41.2 MB 10.4 MB/s eta 0:00:01\n",
      "   ---------------------------------- ----- 35.4/41.2 MB 10.4 MB/s eta 0:00:01\n",
      "   ------------------------------------ --- 37.5/41.2 MB 10.4 MB/s eta 0:00:01\n",
      "   -------------------------------------- - 39.8/41.2 MB 10.3 MB/s eta 0:00:01\n",
      "   ---------------------------------------- 41.2/41.2 MB 10.2 MB/s eta 0:00:00\n",
      "Downloading threadpoolctl-3.6.0-py3-none-any.whl (18 kB)\n",
      "Downloading tzdata-2025.2-py2.py3-none-any.whl (347 kB)\n",
      "Installing collected packages: pytz, tzdata, threadpoolctl, pyparsing, pillow, numpy, kiwisolver, joblib, fonttools, cycler, scipy, pandas, contourpy, scikit-learn, matplotlib, seaborn\n",
      "Successfully installed contourpy-1.3.2 cycler-0.12.1 fonttools-4.57.0 joblib-1.4.2 kiwisolver-1.4.8 matplotlib-3.10.1 numpy-2.2.4 pandas-2.2.3 pillow-11.2.1 pyparsing-3.2.3 pytz-2025.2 scikit-learn-1.6.1 scipy-1.15.2 seaborn-0.13.2 threadpoolctl-3.6.0 tzdata-2025.2\n"
     ]
    }
   ],
   "source": [
    "!pip install pandas matplotlib seaborn scikit-learn"
   ]
  },
  {
   "cell_type": "code",
   "execution_count": 2,
   "id": "a9cbd2c4",
   "metadata": {},
   "outputs": [
    {
     "name": "stdout",
     "output_type": "stream",
     "text": [
      "Notebook is working! 🎉\n"
     ]
    }
   ],
   "source": [
    "import pandas as pd\n",
    "print(\"Notebook is working! 🎉\")"
   ]
  },
  {
   "cell_type": "code",
   "execution_count": null,
   "id": "e213af46",
   "metadata": {},
   "outputs": [],
   "source": []
  }
 ],
 "metadata": {
  "kernelspec": {
   "display_name": ".venv",
   "language": "python",
   "name": "python3"
  },
  "language_info": {
   "name": "python",
   "version": "3.10.11"
  }
 },
 "nbformat": 4,
 "nbformat_minor": 5
}
