{
 "cells": [
  {
   "cell_type": "code",
   "execution_count": 2,
   "id": "74510323",
   "metadata": {},
   "outputs": [],
   "source": [
    "#!pip install pandas matplotlib seaborn scikit-learn"
   ]
  },
  {
   "cell_type": "code",
   "execution_count": 3,
   "id": "a9cbd2c4",
   "metadata": {},
   "outputs": [
    {
     "name": "stdout",
     "output_type": "stream",
     "text": [
      "Notebook is working! 🎉\n"
     ]
    }
   ],
   "source": [
    "import pandas as pd\n",
    "print(\"Notebook is working! 🎉\")"
   ]
  },
  {
   "cell_type": "markdown",
   "id": "e213af46",
   "metadata": {},
   "source": [
    "## 1. Project Overview\n",
    "- Predict customer churn for a fictional telco/banking product\n",
    "- Binary classification problem (churned vs. retained)"
   ]
  },
  {
   "cell_type": "code",
   "execution_count": null,
   "id": "bfa77e82",
   "metadata": {},
   "outputs": [],
   "source": []
  },
  {
   "cell_type": "markdown",
   "id": "65c7450a",
   "metadata": {},
   "source": [
    "## 2. Load & Preview Data"
   ]
  },
  {
   "cell_type": "code",
   "execution_count": null,
   "id": "13ea7d94",
   "metadata": {},
   "outputs": [],
   "source": []
  },
  {
   "cell_type": "code",
   "execution_count": null,
   "id": "c68f28e7",
   "metadata": {},
   "outputs": [],
   "source": []
  },
  {
   "cell_type": "markdown",
   "id": "9f343d4e",
   "metadata": {},
   "source": [
    "## 3. Data Cleaning & Preprocessing"
   ]
  },
  {
   "cell_type": "code",
   "execution_count": null,
   "id": "0be88844",
   "metadata": {},
   "outputs": [],
   "source": []
  },
  {
   "cell_type": "markdown",
   "id": "4416be85",
   "metadata": {},
   "source": [
    "## 4. Exploratory Data Analysis (EDA)"
   ]
  },
  {
   "cell_type": "code",
   "execution_count": null,
   "id": "3af144a0",
   "metadata": {},
   "outputs": [],
   "source": []
  },
  {
   "cell_type": "markdown",
   "id": "1ace3c3a",
   "metadata": {},
   "source": [
    "## 5. Feature Engineering"
   ]
  },
  {
   "cell_type": "code",
   "execution_count": null,
   "id": "2c8d3e83",
   "metadata": {},
   "outputs": [],
   "source": []
  },
  {
   "cell_type": "markdown",
   "id": "78174ff3",
   "metadata": {},
   "source": [
    "## 6. Model Training"
   ]
  },
  {
   "cell_type": "code",
   "execution_count": null,
   "id": "b2193215",
   "metadata": {},
   "outputs": [],
   "source": []
  },
  {
   "cell_type": "markdown",
   "id": "e22fe559",
   "metadata": {},
   "source": [
    "## 7. Model Evaluation"
   ]
  },
  {
   "cell_type": "code",
   "execution_count": null,
   "id": "906bba36",
   "metadata": {},
   "outputs": [],
   "source": []
  },
  {
   "cell_type": "markdown",
   "id": "f50dc4a6",
   "metadata": {},
   "source": [
    "## 8. Insights & Next Steps"
   ]
  },
  {
   "cell_type": "code",
   "execution_count": null,
   "id": "051eccaf",
   "metadata": {},
   "outputs": [],
   "source": []
  }
 ],
 "metadata": {
  "kernelspec": {
   "display_name": "Python 3",
   "language": "python",
   "name": "python3"
  },
  "language_info": {
   "codemirror_mode": {
    "name": "ipython",
    "version": 3
   },
   "file_extension": ".py",
   "mimetype": "text/x-python",
   "name": "python",
   "nbconvert_exporter": "python",
   "pygments_lexer": "ipython3",
   "version": "3.11.11"
  }
 },
 "nbformat": 4,
 "nbformat_minor": 5
}
