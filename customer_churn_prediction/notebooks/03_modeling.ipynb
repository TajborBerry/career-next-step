{
 "cells": [
  {
   "cell_type": "code",
   "execution_count": 4,
   "id": "ec8ac83e",
   "metadata": {},
   "outputs": [],
   "source": [
    "import pandas as pd\n",
    "import numpy as np\n",
    "from sklearn.model_selection import train_test_split\n",
    "from sklearn.linear_model import LogisticRegression\n",
    "from sklearn.tree import DecisionTreeClassifier\n",
    "from sklearn.ensemble import RandomForestClassifier\n",
    "from sklearn.metrics import accuracy_score, precision_score, recall_score, f1_score, confusion_matrix, classification_report\n",
    "from sklearn.model_selection import GridSearchCV"
   ]
  },
  {
   "cell_type": "markdown",
   "id": "65c7450a",
   "metadata": {},
   "source": [
    "## 1. Load & Preview Data"
   ]
  },
  {
   "cell_type": "code",
   "execution_count": 5,
   "id": "13ea7d94",
   "metadata": {},
   "outputs": [
    {
     "data": {
      "text/html": [
       "<div>\n",
       "<style scoped>\n",
       "    .dataframe tbody tr th:only-of-type {\n",
       "        vertical-align: middle;\n",
       "    }\n",
       "\n",
       "    .dataframe tbody tr th {\n",
       "        vertical-align: top;\n",
       "    }\n",
       "\n",
       "    .dataframe thead th {\n",
       "        text-align: right;\n",
       "    }\n",
       "</style>\n",
       "<table border=\"1\" class=\"dataframe\">\n",
       "  <thead>\n",
       "    <tr style=\"text-align: right;\">\n",
       "      <th></th>\n",
       "      <th>customerID</th>\n",
       "      <th>IsSeniorCitizen</th>\n",
       "      <th>tenure</th>\n",
       "      <th>MonthlyCharges</th>\n",
       "      <th>TotalCharges</th>\n",
       "      <th>Churn</th>\n",
       "      <th>HasPartnerOrDependents</th>\n",
       "      <th>ExpectedTotalCharges</th>\n",
       "      <th>BillingDiffPct</th>\n",
       "      <th>Churn_num</th>\n",
       "      <th>...</th>\n",
       "      <th>Contract_One year</th>\n",
       "      <th>Contract_Two year</th>\n",
       "      <th>PaperlessBilling_Yes</th>\n",
       "      <th>PaymentMethod_Credit card (automatic)</th>\n",
       "      <th>PaymentMethod_Electronic check</th>\n",
       "      <th>PaymentMethod_Mailed check</th>\n",
       "      <th>TenureGroup_Early</th>\n",
       "      <th>TenureGroup_Loyal</th>\n",
       "      <th>PackageChangeBehavior_Downgrade</th>\n",
       "      <th>PackageChangeBehavior_Upgrade</th>\n",
       "    </tr>\n",
       "  </thead>\n",
       "  <tbody>\n",
       "    <tr>\n",
       "      <th>0</th>\n",
       "      <td>7590-VHVEG</td>\n",
       "      <td>0</td>\n",
       "      <td>1</td>\n",
       "      <td>29.85</td>\n",
       "      <td>29.85</td>\n",
       "      <td>No</td>\n",
       "      <td>1</td>\n",
       "      <td>29.85</td>\n",
       "      <td>0.000000</td>\n",
       "      <td>0</td>\n",
       "      <td>...</td>\n",
       "      <td>False</td>\n",
       "      <td>False</td>\n",
       "      <td>True</td>\n",
       "      <td>False</td>\n",
       "      <td>True</td>\n",
       "      <td>False</td>\n",
       "      <td>False</td>\n",
       "      <td>False</td>\n",
       "      <td>False</td>\n",
       "      <td>False</td>\n",
       "    </tr>\n",
       "    <tr>\n",
       "      <th>1</th>\n",
       "      <td>5575-GNVDE</td>\n",
       "      <td>0</td>\n",
       "      <td>34</td>\n",
       "      <td>56.95</td>\n",
       "      <td>1889.50</td>\n",
       "      <td>No</td>\n",
       "      <td>0</td>\n",
       "      <td>1936.30</td>\n",
       "      <td>-0.024170</td>\n",
       "      <td>0</td>\n",
       "      <td>...</td>\n",
       "      <td>True</td>\n",
       "      <td>False</td>\n",
       "      <td>False</td>\n",
       "      <td>False</td>\n",
       "      <td>False</td>\n",
       "      <td>True</td>\n",
       "      <td>False</td>\n",
       "      <td>True</td>\n",
       "      <td>True</td>\n",
       "      <td>False</td>\n",
       "    </tr>\n",
       "    <tr>\n",
       "      <th>2</th>\n",
       "      <td>3668-QPYBK</td>\n",
       "      <td>0</td>\n",
       "      <td>2</td>\n",
       "      <td>53.85</td>\n",
       "      <td>108.15</td>\n",
       "      <td>Yes</td>\n",
       "      <td>0</td>\n",
       "      <td>107.70</td>\n",
       "      <td>0.004178</td>\n",
       "      <td>1</td>\n",
       "      <td>...</td>\n",
       "      <td>False</td>\n",
       "      <td>False</td>\n",
       "      <td>True</td>\n",
       "      <td>False</td>\n",
       "      <td>False</td>\n",
       "      <td>True</td>\n",
       "      <td>False</td>\n",
       "      <td>False</td>\n",
       "      <td>False</td>\n",
       "      <td>False</td>\n",
       "    </tr>\n",
       "    <tr>\n",
       "      <th>3</th>\n",
       "      <td>7795-CFOCW</td>\n",
       "      <td>0</td>\n",
       "      <td>45</td>\n",
       "      <td>42.30</td>\n",
       "      <td>1840.75</td>\n",
       "      <td>No</td>\n",
       "      <td>0</td>\n",
       "      <td>1903.50</td>\n",
       "      <td>-0.032965</td>\n",
       "      <td>0</td>\n",
       "      <td>...</td>\n",
       "      <td>True</td>\n",
       "      <td>False</td>\n",
       "      <td>False</td>\n",
       "      <td>False</td>\n",
       "      <td>False</td>\n",
       "      <td>False</td>\n",
       "      <td>False</td>\n",
       "      <td>True</td>\n",
       "      <td>True</td>\n",
       "      <td>False</td>\n",
       "    </tr>\n",
       "    <tr>\n",
       "      <th>4</th>\n",
       "      <td>9237-HQITU</td>\n",
       "      <td>0</td>\n",
       "      <td>2</td>\n",
       "      <td>70.70</td>\n",
       "      <td>151.65</td>\n",
       "      <td>Yes</td>\n",
       "      <td>0</td>\n",
       "      <td>141.40</td>\n",
       "      <td>0.072484</td>\n",
       "      <td>1</td>\n",
       "      <td>...</td>\n",
       "      <td>False</td>\n",
       "      <td>False</td>\n",
       "      <td>True</td>\n",
       "      <td>False</td>\n",
       "      <td>True</td>\n",
       "      <td>False</td>\n",
       "      <td>False</td>\n",
       "      <td>False</td>\n",
       "      <td>False</td>\n",
       "      <td>True</td>\n",
       "    </tr>\n",
       "  </tbody>\n",
       "</table>\n",
       "<p>5 rows × 40 columns</p>\n",
       "</div>"
      ],
      "text/plain": [
       "   customerID  IsSeniorCitizen  tenure  MonthlyCharges  TotalCharges Churn  \\\n",
       "0  7590-VHVEG                0       1           29.85         29.85    No   \n",
       "1  5575-GNVDE                0      34           56.95       1889.50    No   \n",
       "2  3668-QPYBK                0       2           53.85        108.15   Yes   \n",
       "3  7795-CFOCW                0      45           42.30       1840.75    No   \n",
       "4  9237-HQITU                0       2           70.70        151.65   Yes   \n",
       "\n",
       "   HasPartnerOrDependents  ExpectedTotalCharges  BillingDiffPct  Churn_num  \\\n",
       "0                       1                 29.85        0.000000          0   \n",
       "1                       0               1936.30       -0.024170          0   \n",
       "2                       0                107.70        0.004178          1   \n",
       "3                       0               1903.50       -0.032965          0   \n",
       "4                       0                141.40        0.072484          1   \n",
       "\n",
       "   ...  Contract_One year  Contract_Two year  PaperlessBilling_Yes  \\\n",
       "0  ...              False              False                  True   \n",
       "1  ...               True              False                 False   \n",
       "2  ...              False              False                  True   \n",
       "3  ...               True              False                 False   \n",
       "4  ...              False              False                  True   \n",
       "\n",
       "   PaymentMethod_Credit card (automatic)  PaymentMethod_Electronic check  \\\n",
       "0                                  False                            True   \n",
       "1                                  False                           False   \n",
       "2                                  False                           False   \n",
       "3                                  False                           False   \n",
       "4                                  False                            True   \n",
       "\n",
       "   PaymentMethod_Mailed check  TenureGroup_Early  TenureGroup_Loyal  \\\n",
       "0                       False              False              False   \n",
       "1                        True              False               True   \n",
       "2                        True              False              False   \n",
       "3                       False              False               True   \n",
       "4                       False              False              False   \n",
       "\n",
       "   PackageChangeBehavior_Downgrade  PackageChangeBehavior_Upgrade  \n",
       "0                            False                          False  \n",
       "1                             True                          False  \n",
       "2                            False                          False  \n",
       "3                             True                          False  \n",
       "4                            False                           True  \n",
       "\n",
       "[5 rows x 40 columns]"
      ]
     },
     "execution_count": 5,
     "metadata": {},
     "output_type": "execute_result"
    }
   ],
   "source": [
    "# Load the CSV\n",
    "df = pd.read_csv(\"../data/Telco_Customer_Churn_feature_engineered_v1.csv\")\n",
    "\n",
    "# Quick preview\n",
    "df.head()"
   ]
  },
  {
   "cell_type": "markdown",
   "id": "78174ff3",
   "metadata": {},
   "source": [
    "## 2. Model Training"
   ]
  },
  {
   "cell_type": "code",
   "execution_count": 6,
   "id": "b2193215",
   "metadata": {},
   "outputs": [],
   "source": [
    "# Assuming your dataset is df_encoded and target is 'Churn'\n",
    "X = df.drop(columns=['customerID', 'Churn','Churn_num'])\n",
    "y = df['Churn_num']\n",
    "\n",
    "# Split the data (80% train, 20% test), stratify to maintain churn ratio\n",
    "X_train, X_test, y_train, y_test = train_test_split(\n",
    "    X, y, test_size=0.2, random_state=42, stratify=y\n",
    ")"
   ]
  },
  {
   "cell_type": "code",
   "execution_count": 7,
   "id": "387b83e8",
   "metadata": {},
   "outputs": [],
   "source": [
    "logreg = LogisticRegression(max_iter=10000, random_state=42)\n",
    "logreg.fit(X_train, y_train)\n",
    "y_pred_logreg = logreg.predict(X_test)"
   ]
  },
  {
   "cell_type": "code",
   "execution_count": 8,
   "id": "bc7af70f",
   "metadata": {},
   "outputs": [],
   "source": [
    "tree = DecisionTreeClassifier(random_state=42)\n",
    "tree.fit(X_train, y_train)\n",
    "y_pred_tree = tree.predict(X_test)"
   ]
  },
  {
   "cell_type": "code",
   "execution_count": 9,
   "id": "3791770e",
   "metadata": {},
   "outputs": [],
   "source": [
    "forest = RandomForestClassifier(n_estimators=100, random_state=42)\n",
    "forest.fit(X_train, y_train)\n",
    "y_pred_forest = forest.predict(X_test)"
   ]
  },
  {
   "cell_type": "markdown",
   "id": "e22fe559",
   "metadata": {},
   "source": [
    "## 3. Model Evaluation"
   ]
  },
  {
   "cell_type": "code",
   "execution_count": 17,
   "id": "906bba36",
   "metadata": {},
   "outputs": [],
   "source": [
    "# Logistic Regression Evaluation:\n",
    "def model_evalulation_metrics(y_pred):\n",
    "    print(f\"Accuracy: {accuracy_score(y_test, y_pred):.4f}\")\n",
    "    print(f\"Precision: {precision_score(y_test, y_pred):.4f}\")\n",
    "    print(f\"Recall: {recall_score(y_test, y_pred):.4f}\")\n",
    "    print(f\"F1 Score: {f1_score(y_test, y_pred):.4f}\")\n",
    "    print(\"\\nConfusion Matrix:\\n\", confusion_matrix(y_test, y_pred))\n",
    "    print(\"\\nClassification Report:\\n\", classification_report(y_test, y_pred))"
   ]
  },
  {
   "cell_type": "code",
   "execution_count": 18,
   "id": "d9c67b8d",
   "metadata": {},
   "outputs": [
    {
     "name": "stdout",
     "output_type": "stream",
     "text": [
      "Logistic Regression Metrics:\n",
      "Accuracy: 0.8077\n",
      "Precision: 0.6746\n",
      "Recall: 0.5321\n",
      "F1 Score: 0.5949\n",
      "\n",
      "Confusion Matrix:\n",
      " [[939  96]\n",
      " [175 199]]\n",
      "\n",
      "Classification Report:\n",
      "               precision    recall  f1-score   support\n",
      "\n",
      "           0       0.84      0.91      0.87      1035\n",
      "           1       0.67      0.53      0.59       374\n",
      "\n",
      "    accuracy                           0.81      1409\n",
      "   macro avg       0.76      0.72      0.73      1409\n",
      "weighted avg       0.80      0.81      0.80      1409\n",
      "\n"
     ]
    }
   ],
   "source": [
    "print(\"Logistic Regression Metrics:\")\n",
    "model_evalulation_metrics(y_pred = y_pred_logreg)"
   ]
  },
  {
   "cell_type": "code",
   "execution_count": 19,
   "id": "d110ce93",
   "metadata": {},
   "outputs": [
    {
     "name": "stdout",
     "output_type": "stream",
     "text": [
      "Decision Tree Metrics:\n",
      "Accuracy: 0.7360\n",
      "Precision: 0.5026\n",
      "Recall: 0.5134\n",
      "F1 Score: 0.5079\n",
      "\n",
      "Confusion Matrix:\n",
      " [[845 190]\n",
      " [182 192]]\n",
      "\n",
      "Classification Report:\n",
      "               precision    recall  f1-score   support\n",
      "\n",
      "           0       0.82      0.82      0.82      1035\n",
      "           1       0.50      0.51      0.51       374\n",
      "\n",
      "    accuracy                           0.74      1409\n",
      "   macro avg       0.66      0.66      0.66      1409\n",
      "weighted avg       0.74      0.74      0.74      1409\n",
      "\n"
     ]
    }
   ],
   "source": [
    "# Decision Tree Evaluation:\n",
    "print(\"Decision Tree Metrics:\")\n",
    "model_evalulation_metrics(y_pred = y_pred_tree)"
   ]
  },
  {
   "cell_type": "code",
   "execution_count": 20,
   "id": "32423c45",
   "metadata": {},
   "outputs": [
    {
     "name": "stdout",
     "output_type": "stream",
     "text": [
      "Random Forest Metrics:\n",
      "Accuracy: 0.7892\n",
      "Precision: 0.6351\n",
      "Recall: 0.4840\n",
      "F1 Score: 0.5493\n",
      "\n",
      "Confusion Matrix:\n",
      " [[931 104]\n",
      " [193 181]]\n",
      "\n",
      "Classification Report:\n",
      "               precision    recall  f1-score   support\n",
      "\n",
      "           0       0.83      0.90      0.86      1035\n",
      "           1       0.64      0.48      0.55       374\n",
      "\n",
      "    accuracy                           0.79      1409\n",
      "   macro avg       0.73      0.69      0.71      1409\n",
      "weighted avg       0.78      0.79      0.78      1409\n",
      "\n"
     ]
    }
   ],
   "source": [
    "# Random Forest Evaluation:\n",
    "print(\"Random Forest Metrics:\")\n",
    "model_evalulation_metrics(y_pred = y_pred_forest)"
   ]
  },
  {
   "cell_type": "markdown",
   "id": "6d52f826",
   "metadata": {},
   "source": [
    "### 📌 Conclusion\n",
    "\n",
    "Logistic Regression performed the strongest overall, reaching 81% accuracy.\n",
    "However, all models show difficulty in catching churners (Recall around 50%), suggesting a need for further feature engineering or balancing techniques."
   ]
  },
  {
   "cell_type": "markdown",
   "id": "f50dc4a6",
   "metadata": {},
   "source": [
    "## 4. Insights & Next Steps"
   ]
  },
  {
   "cell_type": "markdown",
   "id": "2d5394c1",
   "metadata": {},
   "source": [
    "### Fine Tuning"
   ]
  },
  {
   "cell_type": "code",
   "execution_count": null,
   "id": "051eccaf",
   "metadata": {},
   "outputs": [
    {
     "name": "stdout",
     "output_type": "stream",
     "text": [
      "Best parameters: {'criterion': 'entropy', 'max_depth': 3, 'min_samples_leaf': 1, 'min_samples_split': 2}\n"
     ]
    }
   ],
   "source": [
    "# Define hyperparameter grid\n",
    "param_grid = {\n",
    "    'max_depth': [3, 5, 10, 15, None],\n",
    "    'min_samples_split': [2, 5, 10, 20],\n",
    "    'min_samples_leaf': [1, 2, 5, 10],\n",
    "    'criterion': ['gini', 'entropy']  # Gini impurity or Information gain\n",
    "}\n",
    "\n",
    "# Setup the GridSearchCV\n",
    "grid_search = GridSearchCV(tree, param_grid, cv=5, scoring='recall', n_jobs=-1)\n",
    "\n",
    "# Fit to the training data\n",
    "grid_search.fit(X_train, y_train)\n",
    "\n",
    "# Best parameters\n",
    "print(f\"Best parameters: {grid_search.best_params_}\")\n",
    "\n",
    "# Best estimator\n",
    "best_tree = grid_search.best_estimator_\n",
    "\n",
    "# Predict and evaluate\n",
    "y_pred_best_tree = best_tree.predict(X_test)\n"
   ]
  },
  {
   "cell_type": "code",
   "execution_count": 22,
   "id": "95216dfe",
   "metadata": {},
   "outputs": [
    {
     "name": "stdout",
     "output_type": "stream",
     "text": [
      "Decision Tree Metrics:\n",
      "Accuracy: 0.7509\n",
      "Precision: 0.5273\n",
      "Recall: 0.5936\n",
      "F1 Score: 0.5585\n",
      "\n",
      "Confusion Matrix:\n",
      " [[836 199]\n",
      " [152 222]]\n",
      "\n",
      "Classification Report:\n",
      "               precision    recall  f1-score   support\n",
      "\n",
      "           0       0.85      0.81      0.83      1035\n",
      "           1       0.53      0.59      0.56       374\n",
      "\n",
      "    accuracy                           0.75      1409\n",
      "   macro avg       0.69      0.70      0.69      1409\n",
      "weighted avg       0.76      0.75      0.76      1409\n",
      "\n"
     ]
    }
   ],
   "source": [
    "# Decision Tree Evaluation:\n",
    "print(\"Decision Tree Metrics:\")\n",
    "model_evalulation_metrics(y_pred = y_pred_best_tree)"
   ]
  },
  {
   "cell_type": "code",
   "execution_count": null,
   "id": "fc34864c",
   "metadata": {},
   "outputs": [],
   "source": []
  }
 ],
 "metadata": {
  "kernelspec": {
   "display_name": "datascience_base",
   "language": "python",
   "name": "python3"
  },
  "language_info": {
   "codemirror_mode": {
    "name": "ipython",
    "version": 3
   },
   "file_extension": ".py",
   "mimetype": "text/x-python",
   "name": "python",
   "nbconvert_exporter": "python",
   "pygments_lexer": "ipython3",
   "version": "3.12.9"
  }
 },
 "nbformat": 4,
 "nbformat_minor": 5
}
