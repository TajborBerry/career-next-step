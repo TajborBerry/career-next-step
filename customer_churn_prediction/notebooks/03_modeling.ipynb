{
 "cells": [
  {
   "cell_type": "code",
   "execution_count": 104,
   "id": "ea212430",
   "metadata": {},
   "outputs": [],
   "source": [
    "#!pip install xgboost\n",
    "#!pip install imblearn"
   ]
  },
  {
   "cell_type": "code",
   "execution_count": 105,
   "id": "ec8ac83e",
   "metadata": {},
   "outputs": [],
   "source": [
    "import pandas as pd\n",
    "import numpy as np\n",
    "from sklearn.model_selection import train_test_split\n",
    "from sklearn.linear_model import LogisticRegression\n",
    "from sklearn.tree import DecisionTreeClassifier\n",
    "from sklearn.ensemble import RandomForestClassifier\n",
    "from sklearn.metrics import accuracy_score, precision_score, recall_score, f1_score, confusion_matrix, classification_report\n",
    "from sklearn.model_selection import GridSearchCV\n",
    "import xgboost as xgb\n",
    "from xgboost import XGBClassifier\n",
    "from sklearn.metrics import classification_report, precision_recall_curve\n",
    "import matplotlib.pyplot as plt\n",
    "from sklearn.metrics import confusion_matrix, ConfusionMatrixDisplay\n",
    "from imblearn.over_sampling import SMOTE\n",
    "from sklearn.linear_model import LogisticRegression\n",
    "from sklearn.pipeline import Pipeline\n",
    "from imblearn.pipeline import Pipeline as ImbPipeline\n",
    "from sklearn.preprocessing import StandardScaler\n",
    "from sklearn.naive_bayes import GaussianNB"
   ]
  },
  {
   "cell_type": "markdown",
   "id": "65c7450a",
   "metadata": {},
   "source": [
    "## 1. Load & Preview Data"
   ]
  },
  {
   "cell_type": "code",
   "execution_count": 106,
   "id": "13ea7d94",
   "metadata": {},
   "outputs": [
    {
     "data": {
      "text/html": [
       "<div>\n",
       "<style scoped>\n",
       "    .dataframe tbody tr th:only-of-type {\n",
       "        vertical-align: middle;\n",
       "    }\n",
       "\n",
       "    .dataframe tbody tr th {\n",
       "        vertical-align: top;\n",
       "    }\n",
       "\n",
       "    .dataframe thead th {\n",
       "        text-align: right;\n",
       "    }\n",
       "</style>\n",
       "<table border=\"1\" class=\"dataframe\">\n",
       "  <thead>\n",
       "    <tr style=\"text-align: right;\">\n",
       "      <th></th>\n",
       "      <th>customerID</th>\n",
       "      <th>IsSeniorCitizen</th>\n",
       "      <th>tenure</th>\n",
       "      <th>MonthlyCharges</th>\n",
       "      <th>TotalCharges</th>\n",
       "      <th>Churn</th>\n",
       "      <th>HasPartnerOrDependents</th>\n",
       "      <th>ExpectedTotalCharges</th>\n",
       "      <th>BillingDiffPct</th>\n",
       "      <th>Churn_num</th>\n",
       "      <th>...</th>\n",
       "      <th>Contract_One year</th>\n",
       "      <th>Contract_Two year</th>\n",
       "      <th>PaperlessBilling_Yes</th>\n",
       "      <th>PaymentMethod_Credit card (automatic)</th>\n",
       "      <th>PaymentMethod_Electronic check</th>\n",
       "      <th>PaymentMethod_Mailed check</th>\n",
       "      <th>TenureGroup_Early</th>\n",
       "      <th>TenureGroup_Loyal</th>\n",
       "      <th>PackageChangeBehavior_Downgrade</th>\n",
       "      <th>PackageChangeBehavior_Upgrade</th>\n",
       "    </tr>\n",
       "  </thead>\n",
       "  <tbody>\n",
       "    <tr>\n",
       "      <th>0</th>\n",
       "      <td>7590-VHVEG</td>\n",
       "      <td>0</td>\n",
       "      <td>1</td>\n",
       "      <td>29.85</td>\n",
       "      <td>29.85</td>\n",
       "      <td>No</td>\n",
       "      <td>1</td>\n",
       "      <td>29.85</td>\n",
       "      <td>0.000000</td>\n",
       "      <td>0</td>\n",
       "      <td>...</td>\n",
       "      <td>False</td>\n",
       "      <td>False</td>\n",
       "      <td>True</td>\n",
       "      <td>False</td>\n",
       "      <td>True</td>\n",
       "      <td>False</td>\n",
       "      <td>False</td>\n",
       "      <td>False</td>\n",
       "      <td>False</td>\n",
       "      <td>False</td>\n",
       "    </tr>\n",
       "    <tr>\n",
       "      <th>1</th>\n",
       "      <td>5575-GNVDE</td>\n",
       "      <td>0</td>\n",
       "      <td>34</td>\n",
       "      <td>56.95</td>\n",
       "      <td>1889.50</td>\n",
       "      <td>No</td>\n",
       "      <td>0</td>\n",
       "      <td>1936.30</td>\n",
       "      <td>-0.024170</td>\n",
       "      <td>0</td>\n",
       "      <td>...</td>\n",
       "      <td>True</td>\n",
       "      <td>False</td>\n",
       "      <td>False</td>\n",
       "      <td>False</td>\n",
       "      <td>False</td>\n",
       "      <td>True</td>\n",
       "      <td>False</td>\n",
       "      <td>True</td>\n",
       "      <td>True</td>\n",
       "      <td>False</td>\n",
       "    </tr>\n",
       "    <tr>\n",
       "      <th>2</th>\n",
       "      <td>3668-QPYBK</td>\n",
       "      <td>0</td>\n",
       "      <td>2</td>\n",
       "      <td>53.85</td>\n",
       "      <td>108.15</td>\n",
       "      <td>Yes</td>\n",
       "      <td>0</td>\n",
       "      <td>107.70</td>\n",
       "      <td>0.004178</td>\n",
       "      <td>1</td>\n",
       "      <td>...</td>\n",
       "      <td>False</td>\n",
       "      <td>False</td>\n",
       "      <td>True</td>\n",
       "      <td>False</td>\n",
       "      <td>False</td>\n",
       "      <td>True</td>\n",
       "      <td>False</td>\n",
       "      <td>False</td>\n",
       "      <td>False</td>\n",
       "      <td>False</td>\n",
       "    </tr>\n",
       "    <tr>\n",
       "      <th>3</th>\n",
       "      <td>7795-CFOCW</td>\n",
       "      <td>0</td>\n",
       "      <td>45</td>\n",
       "      <td>42.30</td>\n",
       "      <td>1840.75</td>\n",
       "      <td>No</td>\n",
       "      <td>0</td>\n",
       "      <td>1903.50</td>\n",
       "      <td>-0.032965</td>\n",
       "      <td>0</td>\n",
       "      <td>...</td>\n",
       "      <td>True</td>\n",
       "      <td>False</td>\n",
       "      <td>False</td>\n",
       "      <td>False</td>\n",
       "      <td>False</td>\n",
       "      <td>False</td>\n",
       "      <td>False</td>\n",
       "      <td>True</td>\n",
       "      <td>True</td>\n",
       "      <td>False</td>\n",
       "    </tr>\n",
       "    <tr>\n",
       "      <th>4</th>\n",
       "      <td>9237-HQITU</td>\n",
       "      <td>0</td>\n",
       "      <td>2</td>\n",
       "      <td>70.70</td>\n",
       "      <td>151.65</td>\n",
       "      <td>Yes</td>\n",
       "      <td>0</td>\n",
       "      <td>141.40</td>\n",
       "      <td>0.072484</td>\n",
       "      <td>1</td>\n",
       "      <td>...</td>\n",
       "      <td>False</td>\n",
       "      <td>False</td>\n",
       "      <td>True</td>\n",
       "      <td>False</td>\n",
       "      <td>True</td>\n",
       "      <td>False</td>\n",
       "      <td>False</td>\n",
       "      <td>False</td>\n",
       "      <td>False</td>\n",
       "      <td>True</td>\n",
       "    </tr>\n",
       "  </tbody>\n",
       "</table>\n",
       "<p>5 rows × 40 columns</p>\n",
       "</div>"
      ],
      "text/plain": [
       "   customerID  IsSeniorCitizen  tenure  MonthlyCharges  TotalCharges Churn  \\\n",
       "0  7590-VHVEG                0       1           29.85         29.85    No   \n",
       "1  5575-GNVDE                0      34           56.95       1889.50    No   \n",
       "2  3668-QPYBK                0       2           53.85        108.15   Yes   \n",
       "3  7795-CFOCW                0      45           42.30       1840.75    No   \n",
       "4  9237-HQITU                0       2           70.70        151.65   Yes   \n",
       "\n",
       "   HasPartnerOrDependents  ExpectedTotalCharges  BillingDiffPct  Churn_num  \\\n",
       "0                       1                 29.85        0.000000          0   \n",
       "1                       0               1936.30       -0.024170          0   \n",
       "2                       0                107.70        0.004178          1   \n",
       "3                       0               1903.50       -0.032965          0   \n",
       "4                       0                141.40        0.072484          1   \n",
       "\n",
       "   ...  Contract_One year  Contract_Two year  PaperlessBilling_Yes  \\\n",
       "0  ...              False              False                  True   \n",
       "1  ...               True              False                 False   \n",
       "2  ...              False              False                  True   \n",
       "3  ...               True              False                 False   \n",
       "4  ...              False              False                  True   \n",
       "\n",
       "   PaymentMethod_Credit card (automatic)  PaymentMethod_Electronic check  \\\n",
       "0                                  False                            True   \n",
       "1                                  False                           False   \n",
       "2                                  False                           False   \n",
       "3                                  False                           False   \n",
       "4                                  False                            True   \n",
       "\n",
       "   PaymentMethod_Mailed check  TenureGroup_Early  TenureGroup_Loyal  \\\n",
       "0                       False              False              False   \n",
       "1                        True              False               True   \n",
       "2                        True              False              False   \n",
       "3                       False              False               True   \n",
       "4                       False              False              False   \n",
       "\n",
       "   PackageChangeBehavior_Downgrade  PackageChangeBehavior_Upgrade  \n",
       "0                            False                          False  \n",
       "1                             True                          False  \n",
       "2                            False                          False  \n",
       "3                             True                          False  \n",
       "4                            False                           True  \n",
       "\n",
       "[5 rows x 40 columns]"
      ]
     },
     "execution_count": 106,
     "metadata": {},
     "output_type": "execute_result"
    }
   ],
   "source": [
    "# Load the CSV\n",
    "df = pd.read_csv(\"../data/Telco_Customer_Churn_feature_engineered_v1.csv\")\n",
    "\n",
    "# Quick preview\n",
    "df.head()"
   ]
  },
  {
   "cell_type": "code",
   "execution_count": 107,
   "id": "50a761d9",
   "metadata": {},
   "outputs": [],
   "source": [
    "X = df.drop(columns=['customerID', 'Churn','Churn_num'])\n",
    "y = df['Churn_num']\n",
    "X_train, X_test, y_train, y_test = train_test_split(X, y, test_size=0.2, stratify=y, random_state=42)"
   ]
  },
  {
   "cell_type": "code",
   "execution_count": 108,
   "id": "70fdd31c",
   "metadata": {},
   "outputs": [],
   "source": [
    "smote = SMOTE(random_state=42)\n",
    "X_train_sm, y_train_sm = smote.fit_resample(X_train, y_train)"
   ]
  },
  {
   "cell_type": "code",
   "execution_count": 109,
   "id": "b5d57e99",
   "metadata": {},
   "outputs": [],
   "source": [
    "def precision_recall_curve_draw(precisions = precisions, recalls = recalls, thresholds = thresholds, threshold = threshold):\n",
    "    plt.figure(figsize=(8, 5))\n",
    "    plt.plot(thresholds, precisions[:-1], label='Precision', color='blue')\n",
    "    plt.plot(thresholds, recalls[:-1], label='Recall', color='green')\n",
    "    plt.axvline(x=threshold, color='red', linestyle='--', label=f'Threshold = {threshold}')\n",
    "    plt.xlabel(\"Threshold\")\n",
    "    plt.ylabel(\"Score\")\n",
    "    plt.title(\"Precision and Recall vs Threshold\")\n",
    "    plt.legend()\n",
    "    plt.grid(True)\n",
    "    plt.tight_layout()\n",
    "    plt.show()"
   ]
  },
  {
   "cell_type": "markdown",
   "id": "78174ff3",
   "metadata": {},
   "source": [
    "## 2a. Basic Model Training (Logistic Regression)"
   ]
  },
  {
   "cell_type": "markdown",
   "id": "ba673fce",
   "metadata": {},
   "source": [
    "### Simple Logistic Regression no modification"
   ]
  },
  {
   "cell_type": "code",
   "execution_count": 110,
   "id": "50423571",
   "metadata": {},
   "outputs": [
    {
     "name": "stdout",
     "output_type": "stream",
     "text": [
      "🔧 Best Parameters: {'C': 0.01, 'class_weight': 'balanced', 'penalty': 'l1', 'solver': 'saga'}\n",
      "\n",
      "📊 Classification Report:\n",
      "              precision    recall  f1-score   support\n",
      "\n",
      "    No Churn       0.90      0.65      0.76      1035\n",
      "       Churn       0.46      0.81      0.58       374\n",
      "\n",
      "    accuracy                           0.69      1409\n",
      "   macro avg       0.68      0.73      0.67      1409\n",
      "weighted avg       0.79      0.69      0.71      1409\n",
      "\n"
     ]
    }
   ],
   "source": [
    "#Restart\n",
    "#Defining the Logistic Regression model\n",
    "log_reg = LogisticRegression(max_iter=10000, random_state = 42)\n",
    "\n",
    "# Grid of hyperparameters \n",
    "param_grid = {\n",
    "    'C': [0.01, 0.1, 1, 10],\n",
    "    'penalty': ['l1','l2'], \n",
    "    'solver': ['saga'],\n",
    "    'class_weight': ['balanced']\n",
    "}\n",
    "\n",
    "# Grid Search with recall as the scoring metric because accuracy is not a good measure in imbalanced datasets and catching churn is the business case\n",
    "grid_search = GridSearchCV(log_reg, param_grid, cv=5, scoring='recall', n_jobs=-1)\n",
    "grid_search.fit(X_train, y_train)\n",
    "\n",
    "# Best model evaluation\n",
    "best_model = grid_search.best_estimator_\n",
    "y_pred = best_model.predict(X_test)\n",
    "\n",
    "print(\"🔧 Best Parameters:\", grid_search.best_params_)\n",
    "print(\"\\n📊 Classification Report:\")\n",
    "print(classification_report(y_test, y_pred, target_names=[\"No Churn\", \"Churn\"]))\n"
   ]
  },
  {
   "cell_type": "markdown",
   "id": "0c5bf6d0",
   "metadata": {},
   "source": [
    "### Logistic Regression changing threshold"
   ]
  },
  {
   "cell_type": "code",
   "execution_count": 134,
   "id": "e99eaf8c",
   "metadata": {},
   "outputs": [
    {
     "name": "stdout",
     "output_type": "stream",
     "text": [
      "📉 Threshold set to: 0.36\n",
      "              precision    recall  f1-score   support\n",
      "\n",
      "    No Churn       0.91      0.70      0.79      4139\n",
      "       Churn       0.49      0.81      0.61      1495\n",
      "\n",
      "    accuracy                           0.73      5634\n",
      "   macro avg       0.70      0.75      0.70      5634\n",
      "weighted avg       0.80      0.73      0.74      5634\n",
      "\n"
     ]
    },
    {
     "data": {
      "image/png": "[encoded data removed]",
      "text/plain": [
       "<Figure size 800x500 with 1 Axes>"
      ]
     },
     "metadata": {},
     "output_type": "display_data"
    }
   ],
   "source": [
    "# Changing threshold based on training\n",
    "# 1. Get predicted probabilities for the positive class (Churn = 1)\n",
    "y_probs = best_model.predict_proba(X_train)[:, 1]\n",
    "\n",
    "# 2. Set custom threshold\n",
    "threshold = 0.36  #After reading the graph\n",
    "y_pred_threshold = (y_probs >= threshold).astype(int)\n",
    "\n",
    "# 3. Evaluate performance\n",
    "print(f\"📉 Threshold set to: {threshold}\")\n",
    "print(classification_report(y_train, y_pred_threshold, target_names=[\"No Churn\", \"Churn\"]))\n",
    "\n",
    "# 4. (Optional) Plot Precision-Recall vs. Threshold curve\n",
    "precisions, recalls, thresholds = precision_recall_curve(y_train, y_probs)\n",
    "\n",
    "precision_recall_curve_draw()"
   ]
  },
  {
   "cell_type": "code",
   "execution_count": 112,
   "id": "9b2bd6c6",
   "metadata": {},
   "outputs": [
    {
     "name": "stdout",
     "output_type": "stream",
     "text": [
      "📉 Threshold set to: 0.36\n",
      "              precision    recall  f1-score   support\n",
      "\n",
      "    No Churn       0.94      0.51      0.66      1035\n",
      "       Churn       0.40      0.91      0.56       374\n",
      "\n",
      "    accuracy                           0.62      1409\n",
      "   macro avg       0.67      0.71      0.61      1409\n",
      "weighted avg       0.80      0.62      0.63      1409\n",
      "\n"
     ]
    }
   ],
   "source": [
    "# Evaluate the threshold change on the test data\n",
    "# 1. Get predicted probabilities for the positive class (Churn = 1)\n",
    "y_probs = best_model.predict_proba(X_test)[:, 1]\n",
    "\n",
    "# 2. Set custom threshold\n",
    "threshold = 0.36  #After reading the graph\n",
    "y_pred_threshold = (y_probs >= threshold).astype(int)\n",
    "\n",
    "# 3. Evaluate performance\n",
    "print(f\"📉 Threshold set to: {threshold}\")\n",
    "print(classification_report(y_test, y_pred_threshold, target_names=[\"No Churn\", \"Churn\"]))\n"
   ]
  },
  {
   "cell_type": "code",
   "execution_count": 113,
   "id": "4db78b4e",
   "metadata": {},
   "outputs": [
    {
     "data": {
      "image/png": "[encoded data removed]",
      "text/plain": [
       "<Figure size 640x480 with 2 Axes>"
      ]
     },
     "metadata": {},
     "output_type": "display_data"
    }
   ],
   "source": [
    "#Create new confusion matrix\n",
    "y_pred_thresh = (y_probs >= 0.36).astype(int)\n",
    "\n",
    "# Create confusion matrix\n",
    "cm = confusion_matrix(y_test, y_pred_thresh)\n",
    "disp = ConfusionMatrixDisplay(confusion_matrix=cm, display_labels=[\"No Churn\", \"Churn\"])\n",
    "\n",
    "disp.plot(cmap='Blues')\n",
    "plt.title(\"Confusion Matrix (Threshold = 0.36)\")\n",
    "plt.grid(False)\n",
    "plt.show()\n"
   ]
  },
  {
   "cell_type": "markdown",
   "id": "25b9f522",
   "metadata": {},
   "source": [
    "### Apply SMOTE to try to handle the imbalance"
   ]
  },
  {
   "cell_type": "code",
   "execution_count": 114,
   "id": "699ab341",
   "metadata": {},
   "outputs": [
    {
     "name": "stdout",
     "output_type": "stream",
     "text": [
      "Fitting 5 folds for each of 8 candidates, totalling 40 fits\n"
     ]
    }
   ],
   "source": [
    "pipeline = ImbPipeline([\n",
    "    ('smote', SMOTE(random_state=42)),\n",
    "    ('scaler', StandardScaler()),\n",
    "    ('clf', LogisticRegression(max_iter=1000))\n",
    "])\n",
    "\n",
    "# Define hyperparameter grid\n",
    "param_grid = {\n",
    "    'clf__C': [0.01, 0.1, 1, 10],\n",
    "    'clf__penalty': ['l1','l2'],\n",
    "    'clf__solver': ['saga'],\n",
    "    'clf__class_weight': [None]\n",
    "}\n",
    "\n",
    "# Run grid search\n",
    "grid_search = GridSearchCV(\n",
    "    estimator=pipeline,\n",
    "    param_grid=param_grid,\n",
    "    scoring='recall',\n",
    "    cv=5,\n",
    "    n_jobs=-1,\n",
    "    verbose=1\n",
    ")\n",
    "\n",
    "# Fit on original (not SMOTE-resampled) training data\n",
    "grid_search.fit(X_train, y_train)\n",
    "\n",
    "# Get best model and predict\n",
    "best_model = grid_search.best_estimator_\n",
    "y_probs_sm = best_model.predict_proba(X_test)[:, 1]\n"
   ]
  },
  {
   "cell_type": "code",
   "execution_count": 115,
   "id": "6a4a44fc",
   "metadata": {},
   "outputs": [],
   "source": [
    "y_pred_sm = (y_probs_sm >= 0.5).astype(int)"
   ]
  },
  {
   "cell_type": "code",
   "execution_count": 116,
   "id": "9c818066",
   "metadata": {},
   "outputs": [
    {
     "name": "stdout",
     "output_type": "stream",
     "text": [
      "\n",
      "📊 Classification Report:\n",
      "              precision    recall  f1-score   support\n",
      "\n",
      "    No Churn       0.86      0.80      0.83      1035\n",
      "       Churn       0.54      0.66      0.59       374\n",
      "\n",
      "    accuracy                           0.76      1409\n",
      "   macro avg       0.70      0.73      0.71      1409\n",
      "weighted avg       0.78      0.76      0.77      1409\n",
      "\n"
     ]
    }
   ],
   "source": [
    "print(\"\\n📊 Classification Report:\")\n",
    "print(classification_report(y_test, y_pred_sm, target_names=[\"No Churn\", \"Churn\"]))"
   ]
  },
  {
   "cell_type": "markdown",
   "id": "775bbdfc",
   "metadata": {},
   "source": [
    "## 📌 Conclusion on Logistic Regression\n",
    "\n",
    "The Logistic Regression model demonstrated strong performance in identifying churned customers. After extensive hyperparameter tuning and class balancing techniques, including SMOTE, the model achieved a recall of 80% on the churn class. However, this came at the cost of precision, resulting in an overall accuracy of 46% on the churn predictions.\n",
    "\n",
    "While SMOTE did not yield further improvements in recall compared to class weighting and threshold adjustment alone, it confirmed the model’s robustness across different balancing strategies."
   ]
  },
  {
   "cell_type": "markdown",
   "id": "9b8e488f",
   "metadata": {},
   "source": [
    "## 2b. Basic Model Training (Decision Tree)"
   ]
  },
  {
   "cell_type": "markdown",
   "id": "3be5f450",
   "metadata": {},
   "source": [
    "### Simple Decision Tree with grid search"
   ]
  },
  {
   "cell_type": "code",
   "execution_count": 117,
   "id": "e577dd00",
   "metadata": {},
   "outputs": [
    {
     "name": "stdout",
     "output_type": "stream",
     "text": [
      "🔧 Best Parameters: {'class_weight': 'balanced', 'max_depth': 5, 'min_samples_leaf': 10, 'min_samples_split': 2}\n",
      "\n",
      "📊 Classification Report:\n",
      "              precision    recall  f1-score   support\n",
      "\n",
      "    No Churn       0.91      0.69      0.79      1035\n",
      "       Churn       0.49      0.81      0.61       374\n",
      "\n",
      "    accuracy                           0.73      1409\n",
      "   macro avg       0.70      0.75      0.70      1409\n",
      "weighted avg       0.80      0.73      0.74      1409\n",
      "\n"
     ]
    }
   ],
   "source": [
    "#Defining the tree model\n",
    "tree = DecisionTreeClassifier(random_state=42)\n",
    "\n",
    "# Grid of hyperparameters \n",
    "param_grid = {\n",
    "    'max_depth': [5, 10, 20, None],\n",
    "    'min_samples_split': [2, 5, 10, 15, 20],\n",
    "    'min_samples_leaf': [1, 2, 4, 6, 8, 10],\n",
    "    'class_weight': [None, 'balanced']\n",
    "}\n",
    "\n",
    "# Grid Search with recall as the scoring metric because accuracy is not a good measure in imbalanced datasets and catching churn is the business case\n",
    "grid_search = GridSearchCV(\n",
    "    estimator=tree,\n",
    "    param_grid=param_grid,\n",
    "    cv=5,\n",
    "    scoring='recall',\n",
    "    n_jobs=-1\n",
    ")\n",
    "grid_search.fit(X_train, y_train)\n",
    "\n",
    "# Best model evaluation\n",
    "best_tree = grid_search.best_estimator_\n",
    "y_pred_tree = best_tree.predict(X_test)\n",
    "\n",
    "print(\"🔧 Best Parameters:\", grid_search.best_params_)\n",
    "print(\"\\n📊 Classification Report:\")\n",
    "print(classification_report(y_test, y_pred_tree, target_names=[\"No Churn\", \"Churn\"]))\n"
   ]
  },
  {
   "cell_type": "markdown",
   "id": "7137982b",
   "metadata": {},
   "source": [
    "### Decision Tree changing threshold"
   ]
  },
  {
   "cell_type": "code",
   "execution_count": 118,
   "id": "57c01d44",
   "metadata": {},
   "outputs": [
    {
     "name": "stdout",
     "output_type": "stream",
     "text": [
      "📉 Threshold set to: 0.38\n",
      "              precision    recall  f1-score   support\n",
      "\n",
      "    No Churn       0.93      0.66      0.77      4139\n",
      "       Churn       0.48      0.87      0.62      1495\n",
      "\n",
      "    accuracy                           0.71      5634\n",
      "   macro avg       0.71      0.76      0.69      5634\n",
      "weighted avg       0.81      0.71      0.73      5634\n",
      "\n"
     ]
    },
    {
     "data": {
      "image/png": "[encoded data removed]",
      "text/plain": [
       "<Figure size 800x500 with 1 Axes>"
      ]
     },
     "metadata": {},
     "output_type": "display_data"
    }
   ],
   "source": [
    "# Changing threshold based on training\n",
    "# 1. Get predicted probabilities for the positive class (Churn = 1)\n",
    "y_probs = best_tree.predict_proba(X_train)[:, 1]\n",
    "\n",
    "# 2. Set custom threshold\n",
    "threshold = 0.38 \n",
    "y_pred_threshold = (y_probs >= threshold).astype(int)\n",
    "\n",
    "# 3. Evaluate performance\n",
    "print(f\"📉 Threshold set to: {threshold}\")\n",
    "print(classification_report(y_train, y_pred_threshold, target_names=[\"No Churn\", \"Churn\"]))\n",
    "\n",
    "# 4. (Optional) Plot Precision-Recall vs. Threshold curve\n",
    "precisions, recalls, thresholds = precision_recall_curve(y_train, y_probs)\n",
    "\n",
    "precision_recall_curve_draw()"
   ]
  },
  {
   "cell_type": "code",
   "execution_count": 119,
   "id": "fafcbb86",
   "metadata": {},
   "outputs": [
    {
     "name": "stdout",
     "output_type": "stream",
     "text": [
      "📉 Threshold set to: 0.38\n",
      "              precision    recall  f1-score   support\n",
      "\n",
      "    No Churn       0.93      0.66      0.77      1035\n",
      "       Churn       0.47      0.85      0.61       374\n",
      "\n",
      "    accuracy                           0.71      1409\n",
      "   macro avg       0.70      0.75      0.69      1409\n",
      "weighted avg       0.80      0.71      0.73      1409\n",
      "\n"
     ]
    }
   ],
   "source": [
    "# Evaluate the threshold change on the test data\n",
    "# 1. Get predicted probabilities for the positive class (Churn = 1)\n",
    "y_probs = best_tree.predict_proba(X_test)[:, 1]\n",
    "\n",
    "# 2. Set custom threshold\n",
    "threshold = 0.38  #After reading the graph\n",
    "y_pred_threshold = (y_probs >= threshold).astype(int)\n",
    "\n",
    "# 3. Evaluate performance\n",
    "print(f\"📉 Threshold set to: {threshold}\")\n",
    "print(classification_report(y_test, y_pred_threshold, target_names=[\"No Churn\", \"Churn\"]))"
   ]
  },
  {
   "cell_type": "markdown",
   "id": "e4d02305",
   "metadata": {},
   "source": [
    "### Decision Tree SMOTE"
   ]
  },
  {
   "cell_type": "code",
   "execution_count": 120,
   "id": "43aa7d72",
   "metadata": {},
   "outputs": [
    {
     "name": "stdout",
     "output_type": "stream",
     "text": [
      "🔧 Best Parameters: {'class_weight': None, 'max_depth': 10, 'min_samples_leaf': 2, 'min_samples_split': 2}\n",
      "\n",
      "📊 Classification Report:\n",
      "              precision    recall  f1-score   support\n",
      "\n",
      "    No Churn       0.85      0.80      0.82      1035\n",
      "       Churn       0.52      0.61      0.56       374\n",
      "\n",
      "    accuracy                           0.75      1409\n",
      "   macro avg       0.68      0.70      0.69      1409\n",
      "weighted avg       0.76      0.75      0.75      1409\n",
      "\n"
     ]
    }
   ],
   "source": [
    "tree_sm = DecisionTreeClassifier(random_state=42)\n",
    "\n",
    "# Grid of hyperparameters \n",
    "param_grid = {\n",
    "    'max_depth': [5, 10, 20, None],\n",
    "    'min_samples_split': [2, 5, 10, 15, 20],\n",
    "    'min_samples_leaf': [1, 2, 4, 6, 8, 10],\n",
    "    'class_weight': [None]\n",
    "}\n",
    "\n",
    "# Grid Search with recall as the scoring metric because accuracy is not a good measure in imbalanced datasets and catching churn is the business case\n",
    "grid_search = GridSearchCV(\n",
    "    estimator=tree_sm,\n",
    "    param_grid=param_grid,\n",
    "    cv=5,\n",
    "    scoring='recall',\n",
    "    n_jobs=-1\n",
    ")\n",
    "grid_search.fit(X_train_sm, y_train_sm)\n",
    "\n",
    "# Best model evaluation\n",
    "best_tree_sm = grid_search.best_estimator_\n",
    "y_pred_tree_sm = best_tree_sm.predict(X_test)\n",
    "\n",
    "print(\"🔧 Best Parameters:\", grid_search.best_params_)\n",
    "print(\"\\n📊 Classification Report:\")\n",
    "print(classification_report(y_test, y_pred_tree_sm, target_names=[\"No Churn\", \"Churn\"]))"
   ]
  },
  {
   "cell_type": "code",
   "execution_count": 121,
   "id": "ea5d08d3",
   "metadata": {},
   "outputs": [
    {
     "name": "stdout",
     "output_type": "stream",
     "text": [
      "📉 Threshold set to: 0.5\n"
     ]
    },
    {
     "data": {
      "image/png": "[encoded data removed]",
      "text/plain": [
       "<Figure size 800x500 with 1 Axes>"
      ]
     },
     "metadata": {},
     "output_type": "display_data"
    }
   ],
   "source": [
    "y_probs_sm = best_tree_sm.predict_proba(X_train_sm)[:, 1]\n",
    "# 2. Set custom threshold\n",
    "threshold = 0.5\n",
    "y_pred_thresh_sm = (y_probs_sm >= threshold).astype(int)\n",
    "\n",
    "# 3. Evaluate performance\n",
    "print(f\"📉 Threshold set to: {threshold}\")\n",
    "\n",
    "# 4. (Optional) Plot Precision-Recall vs. Threshold curve\n",
    "precisions, recalls, thresholds = precision_recall_curve(y_train_sm, y_probs_sm)\n",
    "\n",
    "precision_recall_curve_draw()"
   ]
  },
  {
   "cell_type": "code",
   "execution_count": 122,
   "id": "635e3eda",
   "metadata": {},
   "outputs": [
    {
     "name": "stdout",
     "output_type": "stream",
     "text": [
      "📉 Threshold set to: 0.3\n",
      "              precision    recall  f1-score   support\n",
      "\n",
      "    No Churn       0.89      0.67      0.76      1035\n",
      "       Churn       0.45      0.77      0.57       374\n",
      "\n",
      "    accuracy                           0.69      1409\n",
      "   macro avg       0.67      0.72      0.67      1409\n",
      "weighted avg       0.77      0.69      0.71      1409\n",
      "\n"
     ]
    }
   ],
   "source": [
    "# 3. Predict on original test set\n",
    "y_probs_sm = best_tree_sm.predict_proba(X_test)[:, 1]\n",
    "\n",
    "# 4. Apply custom threshold\n",
    "threshold = 0.3\n",
    "y_pred_thresh_sm = (y_probs_sm >= threshold).astype(int)\n",
    "\n",
    "# 5. Evaluate\n",
    "print(f\"📉 Threshold set to: {threshold}\")\n",
    "print(classification_report(y_test, y_pred_thresh_sm, target_names=[\"No Churn\", \"Churn\"]))"
   ]
  },
  {
   "cell_type": "markdown",
   "id": "229824bc",
   "metadata": {},
   "source": [
    "## 📌 Conclusion on Decision Tree\n",
    "\n",
    "The Decision Tree model demonstrated strong performance in identifying churned customers. After extensive hyperparameter tuning and class balancing techniques, including SMOTE, the model achieved a recall of 85% on the churn class. However, this came at the cost of precision, resulting in an overall accuracy of 47% on the churn predictions.\n",
    "\n",
    "While SMOTE did not yield further improvements in recall compared to class weighting and threshold adjustment alone, it confirmed the model’s robustness across different balancing strategies."
   ]
  },
  {
   "cell_type": "markdown",
   "id": "8fbea1ea",
   "metadata": {},
   "source": [
    "## 2c. Basic Model Training (Random Forest)"
   ]
  },
  {
   "cell_type": "markdown",
   "id": "fade5ae2",
   "metadata": {},
   "source": [
    "### Simple Random Forest with grid search"
   ]
  },
  {
   "cell_type": "code",
   "execution_count": 123,
   "id": "4786b9e2",
   "metadata": {},
   "outputs": [
    {
     "data": {
      "text/plain": [
       "'\\n#Defining the tree model\\nforest = RandomForestClassifier(random_state=42)\\n\\n# Grid of hyperparameters \\n\\nparam_grid = {\\n    \\'n_estimators\\': [100, 200, 500],              # Number of trees\\n    \\'max_depth\\': [10, 20, 30],                    # Limit tree depth to prevent overfitting\\n    \\'min_samples_split\\': [2, 5, 10],              # Minimum samples to split an internal node\\n    \\'min_samples_leaf\\': [1, 2, 4],                # Minimum samples at a leaf node\\n    \\'max_features\\': [\\'sqrt\\', \\'log2\\', None],       # Features to consider for best split\\n    \\'class_weight\\': [None, \\'balanced\\'],           # To deal with imbalance (optional if using SMOTE)\\n    \\'bootstrap\\': [True, False]                    # Whether to use bootstrap samples\\n}\\n\\n# Grid Search with recall as the scoring metric because accuracy is not a good measure in imbalanced datasets and catching churn is the business case\\ngrid_search = GridSearchCV(\\n    estimator=forest,\\n    param_grid=param_grid,\\n    cv=5,\\n    scoring=\\'recall\\',\\n    n_jobs=-1\\n)\\ngrid_search.fit(X_train, y_train)\\n\\n# Best model evaluation\\nbest_forest = grid_search.best_estimator_\\ny_pred_forest = best_forest.predict(X_test)\\n\\nprint(\"🔧 Best Parameters:\", grid_search.best_params_)\\nprint(\"\\n📊 Classification Report:\")\\nprint(classification_report(y_test, y_pred_forest, target_names=[\"No Churn\", \"Churn\"]))\\n'"
      ]
     },
     "execution_count": 123,
     "metadata": {},
     "output_type": "execute_result"
    }
   ],
   "source": [
    "'''\n",
    "#Defining the tree model\n",
    "forest = RandomForestClassifier(random_state=42)\n",
    "\n",
    "# Grid of hyperparameters \n",
    "\n",
    "param_grid = {\n",
    "    'n_estimators': [100, 200, 500],              # Number of trees\n",
    "    'max_depth': [10, 20, 30],                    # Limit tree depth to prevent overfitting\n",
    "    'min_samples_split': [2, 5, 10],              # Minimum samples to split an internal node\n",
    "    'min_samples_leaf': [1, 2, 4],                # Minimum samples at a leaf node\n",
    "    'max_features': ['sqrt', 'log2', None],       # Features to consider for best split\n",
    "    'class_weight': [None, 'balanced'],           # To deal with imbalance (optional if using SMOTE)\n",
    "    'bootstrap': [True, False]                    # Whether to use bootstrap samples\n",
    "}\n",
    "\n",
    "# Grid Search with recall as the scoring metric because accuracy is not a good measure in imbalanced datasets and catching churn is the business case\n",
    "grid_search = GridSearchCV(\n",
    "    estimator=forest,\n",
    "    param_grid=param_grid,\n",
    "    cv=5,\n",
    "    scoring='recall',\n",
    "    n_jobs=-1\n",
    ")\n",
    "grid_search.fit(X_train, y_train)\n",
    "\n",
    "# Best model evaluation\n",
    "best_forest = grid_search.best_estimator_\n",
    "y_pred_forest = best_forest.predict(X_test)\n",
    "\n",
    "print(\"🔧 Best Parameters:\", grid_search.best_params_)\n",
    "print(\"\\n📊 Classification Report:\")\n",
    "print(classification_report(y_test, y_pred_forest, target_names=[\"No Churn\", \"Churn\"]))\n",
    "'''"
   ]
  },
  {
   "cell_type": "markdown",
   "id": "b5feda10",
   "metadata": {},
   "source": [
    "🔧 Best Parameters: {'bootstrap': False, 'class_weight': 'balanced', 'max_depth': 10, 'max_features': 'log2', 'min_samples_leaf': 4, 'min_samples_split': 10, 'n_estimators': 100}"
   ]
  },
  {
   "cell_type": "code",
   "execution_count": 124,
   "id": "35ebae74",
   "metadata": {},
   "outputs": [
    {
     "data": {
      "text/html": [
       "<style>#sk-container-id-4 {\n",
       "  /* Definition of color scheme common for light and dark mode */\n",
       "  --sklearn-color-text: #000;\n",
       "  --sklearn-color-text-muted: #666;\n",
       "  --sklearn-color-line: gray;\n",
       "  /* Definition of color scheme for unfitted estimators */\n",
       "  --sklearn-color-unfitted-level-0: #fff5e6;\n",
       "  --sklearn-color-unfitted-level-1: #f6e4d2;\n",
       "  --sklearn-color-unfitted-level-2: #ffe0b3;\n",
       "  --sklearn-color-unfitted-level-3: chocolate;\n",
       "  /* Definition of color scheme for fitted estimators */\n",
       "  --sklearn-color-fitted-level-0: #f0f8ff;\n",
       "  --sklearn-color-fitted-level-1: #d4ebff;\n",
       "  --sklearn-color-fitted-level-2: #b3dbfd;\n",
       "  --sklearn-color-fitted-level-3: cornflowerblue;\n",
       "\n",
       "  /* Specific color for light theme */\n",
       "  --sklearn-color-text-on-default-background: var(--sg-text-color, var(--theme-code-foreground, var(--jp-content-font-color1, black)));\n",
       "  --sklearn-color-background: var(--sg-background-color, var(--theme-background, var(--jp-layout-color0, white)));\n",
       "  --sklearn-color-border-box: var(--sg-text-color, var(--theme-code-foreground, var(--jp-content-font-color1, black)));\n",
       "  --sklearn-color-icon: #696969;\n",
       "\n",
       "  @media (prefers-color-scheme: dark) {\n",
       "    /* Redefinition of color scheme for dark theme */\n",
       "    --sklearn-color-text-on-default-background: var(--sg-text-color, var(--theme-code-foreground, var(--jp-content-font-color1, white)));\n",
       "    --sklearn-color-background: var(--sg-background-color, var(--theme-background, var(--jp-layout-color0, #111)));\n",
       "    --sklearn-color-border-box: var(--sg-text-color, var(--theme-code-foreground, var(--jp-content-font-color1, white)));\n",
       "    --sklearn-color-icon: #878787;\n",
       "  }\n",
       "}\n",
       "\n",
       "#sk-container-id-4 {\n",
       "  color: var(--sklearn-color-text);\n",
       "}\n",
       "\n",
       "#sk-container-id-4 pre {\n",
       "  padding: 0;\n",
       "}\n",
       "\n",
       "#sk-container-id-4 input.sk-hidden--visually {\n",
       "  border: 0;\n",
       "  clip: rect(1px 1px 1px 1px);\n",
       "  clip: rect(1px, 1px, 1px, 1px);\n",
       "  height: 1px;\n",
       "  margin: -1px;\n",
       "  overflow: hidden;\n",
       "  padding: 0;\n",
       "  position: absolute;\n",
       "  width: 1px;\n",
       "}\n",
       "\n",
       "#sk-container-id-4 div.sk-dashed-wrapped {\n",
       "  border: 1px dashed var(--sklearn-color-line);\n",
       "  margin: 0 0.4em 0.5em 0.4em;\n",
       "  box-sizing: border-box;\n",
       "  padding-bottom: 0.4em;\n",
       "  background-color: var(--sklearn-color-background);\n",
       "}\n",
       "\n",
       "#sk-container-id-4 div.sk-container {\n",
       "  /* jupyter's `normalize.less` sets `[hidden] { display: none; }`\n",
       "     but bootstrap.min.css set `[hidden] { display: none !important; }`\n",
       "     so we also need the `!important` here to be able to override the\n",
       "     default hidden behavior on the sphinx rendered scikit-learn.org.\n",
       "     See: https://github.com/scikit-learn/scikit-learn/issues/21755 */\n",
       "  display: inline-block !important;\n",
       "  position: relative;\n",
       "}\n",
       "\n",
       "#sk-container-id-4 div.sk-text-repr-fallback {\n",
       "  display: none;\n",
       "}\n",
       "\n",
       "div.sk-parallel-item,\n",
       "div.sk-serial,\n",
       "div.sk-item {\n",
       "  /* draw centered vertical line to link estimators */\n",
       "  background-image: linear-gradient(var(--sklearn-color-text-on-default-background), var(--sklearn-color-text-on-default-background));\n",
       "  background-size: 2px 100%;\n",
       "  background-repeat: no-repeat;\n",
       "  background-position: center center;\n",
       "}\n",
       "\n",
       "/* Parallel-specific style estimator block */\n",
       "\n",
       "#sk-container-id-4 div.sk-parallel-item::after {\n",
       "  content: \"\";\n",
       "  width: 100%;\n",
       "  border-bottom: 2px solid var(--sklearn-color-text-on-default-background);\n",
       "  flex-grow: 1;\n",
       "}\n",
       "\n",
       "#sk-container-id-4 div.sk-parallel {\n",
       "  display: flex;\n",
       "  align-items: stretch;\n",
       "  justify-content: center;\n",
       "  background-color: var(--sklearn-color-background);\n",
       "  position: relative;\n",
       "}\n",
       "\n",
       "#sk-container-id-4 div.sk-parallel-item {\n",
       "  display: flex;\n",
       "  flex-direction: column;\n",
       "}\n",
       "\n",
       "#sk-container-id-4 div.sk-parallel-item:first-child::after {\n",
       "  align-self: flex-end;\n",
       "  width: 50%;\n",
       "}\n",
       "\n",
       "#sk-container-id-4 div.sk-parallel-item:last-child::after {\n",
       "  align-self: flex-start;\n",
       "  width: 50%;\n",
       "}\n",
       "\n",
       "#sk-container-id-4 div.sk-parallel-item:only-child::after {\n",
       "  width: 0;\n",
       "}\n",
       "\n",
       "/* Serial-specific style estimator block */\n",
       "\n",
       "#sk-container-id-4 div.sk-serial {\n",
       "  display: flex;\n",
       "  flex-direction: column;\n",
       "  align-items: center;\n",
       "  background-color: var(--sklearn-color-background);\n",
       "  padding-right: 1em;\n",
       "  padding-left: 1em;\n",
       "}\n",
       "\n",
       "\n",
       "/* Toggleable style: style used for estimator/Pipeline/ColumnTransformer box that is\n",
       "clickable and can be expanded/collapsed.\n",
       "- Pipeline and ColumnTransformer use this feature and define the default style\n",
       "- Estimators will overwrite some part of the style using the `sk-estimator` class\n",
       "*/\n",
       "\n",
       "/* Pipeline and ColumnTransformer style (default) */\n",
       "\n",
       "#sk-container-id-4 div.sk-toggleable {\n",
       "  /* Default theme specific background. It is overwritten whether we have a\n",
       "  specific estimator or a Pipeline/ColumnTransformer */\n",
       "  background-color: var(--sklearn-color-background);\n",
       "}\n",
       "\n",
       "/* Toggleable label */\n",
       "#sk-container-id-4 label.sk-toggleable__label {\n",
       "  cursor: pointer;\n",
       "  display: flex;\n",
       "  width: 100%;\n",
       "  margin-bottom: 0;\n",
       "  padding: 0.5em;\n",
       "  box-sizing: border-box;\n",
       "  text-align: center;\n",
       "  align-items: start;\n",
       "  justify-content: space-between;\n",
       "  gap: 0.5em;\n",
       "}\n",
       "\n",
       "#sk-container-id-4 label.sk-toggleable__label .caption {\n",
       "  font-size: 0.6rem;\n",
       "  font-weight: lighter;\n",
       "  color: var(--sklearn-color-text-muted);\n",
       "}\n",
       "\n",
       "#sk-container-id-4 label.sk-toggleable__label-arrow:before {\n",
       "  /* Arrow on the left of the label */\n",
       "  content: \"▸\";\n",
       "  float: left;\n",
       "  margin-right: 0.25em;\n",
       "  color: var(--sklearn-color-icon);\n",
       "}\n",
       "\n",
       "#sk-container-id-4 label.sk-toggleable__label-arrow:hover:before {\n",
       "  color: var(--sklearn-color-text);\n",
       "}\n",
       "\n",
       "/* Toggleable content - dropdown */\n",
       "\n",
       "#sk-container-id-4 div.sk-toggleable__content {\n",
       "  max-height: 0;\n",
       "  max-width: 0;\n",
       "  overflow: hidden;\n",
       "  text-align: left;\n",
       "  /* unfitted */\n",
       "  background-color: var(--sklearn-color-unfitted-level-0);\n",
       "}\n",
       "\n",
       "#sk-container-id-4 div.sk-toggleable__content.fitted {\n",
       "  /* fitted */\n",
       "  background-color: var(--sklearn-color-fitted-level-0);\n",
       "}\n",
       "\n",
       "#sk-container-id-4 div.sk-toggleable__content pre {\n",
       "  margin: 0.2em;\n",
       "  border-radius: 0.25em;\n",
       "  color: var(--sklearn-color-text);\n",
       "  /* unfitted */\n",
       "  background-color: var(--sklearn-color-unfitted-level-0);\n",
       "}\n",
       "\n",
       "#sk-container-id-4 div.sk-toggleable__content.fitted pre {\n",
       "  /* unfitted */\n",
       "  background-color: var(--sklearn-color-fitted-level-0);\n",
       "}\n",
       "\n",
       "#sk-container-id-4 input.sk-toggleable__control:checked~div.sk-toggleable__content {\n",
       "  /* Expand drop-down */\n",
       "  max-height: 200px;\n",
       "  max-width: 100%;\n",
       "  overflow: auto;\n",
       "}\n",
       "\n",
       "#sk-container-id-4 input.sk-toggleable__control:checked~label.sk-toggleable__label-arrow:before {\n",
       "  content: \"▾\";\n",
       "}\n",
       "\n",
       "/* Pipeline/ColumnTransformer-specific style */\n",
       "\n",
       "#sk-container-id-4 div.sk-label input.sk-toggleable__control:checked~label.sk-toggleable__label {\n",
       "  color: var(--sklearn-color-text);\n",
       "  background-color: var(--sklearn-color-unfitted-level-2);\n",
       "}\n",
       "\n",
       "#sk-container-id-4 div.sk-label.fitted input.sk-toggleable__control:checked~label.sk-toggleable__label {\n",
       "  background-color: var(--sklearn-color-fitted-level-2);\n",
       "}\n",
       "\n",
       "/* Estimator-specific style */\n",
       "\n",
       "/* Colorize estimator box */\n",
       "#sk-container-id-4 div.sk-estimator input.sk-toggleable__control:checked~label.sk-toggleable__label {\n",
       "  /* unfitted */\n",
       "  background-color: var(--sklearn-color-unfitted-level-2);\n",
       "}\n",
       "\n",
       "#sk-container-id-4 div.sk-estimator.fitted input.sk-toggleable__control:checked~label.sk-toggleable__label {\n",
       "  /* fitted */\n",
       "  background-color: var(--sklearn-color-fitted-level-2);\n",
       "}\n",
       "\n",
       "#sk-container-id-4 div.sk-label label.sk-toggleable__label,\n",
       "#sk-container-id-4 div.sk-label label {\n",
       "  /* The background is the default theme color */\n",
       "  color: var(--sklearn-color-text-on-default-background);\n",
       "}\n",
       "\n",
       "/* On hover, darken the color of the background */\n",
       "#sk-container-id-4 div.sk-label:hover label.sk-toggleable__label {\n",
       "  color: var(--sklearn-color-text);\n",
       "  background-color: var(--sklearn-color-unfitted-level-2);\n",
       "}\n",
       "\n",
       "/* Label box, darken color on hover, fitted */\n",
       "#sk-container-id-4 div.sk-label.fitted:hover label.sk-toggleable__label.fitted {\n",
       "  color: var(--sklearn-color-text);\n",
       "  background-color: var(--sklearn-color-fitted-level-2);\n",
       "}\n",
       "\n",
       "/* Estimator label */\n",
       "\n",
       "#sk-container-id-4 div.sk-label label {\n",
       "  font-family: monospace;\n",
       "  font-weight: bold;\n",
       "  display: inline-block;\n",
       "  line-height: 1.2em;\n",
       "}\n",
       "\n",
       "#sk-container-id-4 div.sk-label-container {\n",
       "  text-align: center;\n",
       "}\n",
       "\n",
       "/* Estimator-specific */\n",
       "#sk-container-id-4 div.sk-estimator {\n",
       "  font-family: monospace;\n",
       "  border: 1px dotted var(--sklearn-color-border-box);\n",
       "  border-radius: 0.25em;\n",
       "  box-sizing: border-box;\n",
       "  margin-bottom: 0.5em;\n",
       "  /* unfitted */\n",
       "  background-color: var(--sklearn-color-unfitted-level-0);\n",
       "}\n",
       "\n",
       "#sk-container-id-4 div.sk-estimator.fitted {\n",
       "  /* fitted */\n",
       "  background-color: var(--sklearn-color-fitted-level-0);\n",
       "}\n",
       "\n",
       "/* on hover */\n",
       "#sk-container-id-4 div.sk-estimator:hover {\n",
       "  /* unfitted */\n",
       "  background-color: var(--sklearn-color-unfitted-level-2);\n",
       "}\n",
       "\n",
       "#sk-container-id-4 div.sk-estimator.fitted:hover {\n",
       "  /* fitted */\n",
       "  background-color: var(--sklearn-color-fitted-level-2);\n",
       "}\n",
       "\n",
       "/* Specification for estimator info (e.g. \"i\" and \"?\") */\n",
       "\n",
       "/* Common style for \"i\" and \"?\" */\n",
       "\n",
       ".sk-estimator-doc-link,\n",
       "a:link.sk-estimator-doc-link,\n",
       "a:visited.sk-estimator-doc-link {\n",
       "  float: right;\n",
       "  font-size: smaller;\n",
       "  line-height: 1em;\n",
       "  font-family: monospace;\n",
       "  background-color: var(--sklearn-color-background);\n",
       "  border-radius: 1em;\n",
       "  height: 1em;\n",
       "  width: 1em;\n",
       "  text-decoration: none !important;\n",
       "  margin-left: 0.5em;\n",
       "  text-align: center;\n",
       "  /* unfitted */\n",
       "  border: var(--sklearn-color-unfitted-level-1) 1pt solid;\n",
       "  color: var(--sklearn-color-unfitted-level-1);\n",
       "}\n",
       "\n",
       ".sk-estimator-doc-link.fitted,\n",
       "a:link.sk-estimator-doc-link.fitted,\n",
       "a:visited.sk-estimator-doc-link.fitted {\n",
       "  /* fitted */\n",
       "  border: var(--sklearn-color-fitted-level-1) 1pt solid;\n",
       "  color: var(--sklearn-color-fitted-level-1);\n",
       "}\n",
       "\n",
       "/* On hover */\n",
       "div.sk-estimator:hover .sk-estimator-doc-link:hover,\n",
       ".sk-estimator-doc-link:hover,\n",
       "div.sk-label-container:hover .sk-estimator-doc-link:hover,\n",
       ".sk-estimator-doc-link:hover {\n",
       "  /* unfitted */\n",
       "  background-color: var(--sklearn-color-unfitted-level-3);\n",
       "  color: var(--sklearn-color-background);\n",
       "  text-decoration: none;\n",
       "}\n",
       "\n",
       "div.sk-estimator.fitted:hover .sk-estimator-doc-link.fitted:hover,\n",
       ".sk-estimator-doc-link.fitted:hover,\n",
       "div.sk-label-container:hover .sk-estimator-doc-link.fitted:hover,\n",
       ".sk-estimator-doc-link.fitted:hover {\n",
       "  /* fitted */\n",
       "  background-color: var(--sklearn-color-fitted-level-3);\n",
       "  color: var(--sklearn-color-background);\n",
       "  text-decoration: none;\n",
       "}\n",
       "\n",
       "/* Span, style for the box shown on hovering the info icon */\n",
       ".sk-estimator-doc-link span {\n",
       "  display: none;\n",
       "  z-index: 9999;\n",
       "  position: relative;\n",
       "  font-weight: normal;\n",
       "  right: .2ex;\n",
       "  padding: .5ex;\n",
       "  margin: .5ex;\n",
       "  width: min-content;\n",
       "  min-width: 20ex;\n",
       "  max-width: 50ex;\n",
       "  color: var(--sklearn-color-text);\n",
       "  box-shadow: 2pt 2pt 4pt #999;\n",
       "  /* unfitted */\n",
       "  background: var(--sklearn-color-unfitted-level-0);\n",
       "  border: .5pt solid var(--sklearn-color-unfitted-level-3);\n",
       "}\n",
       "\n",
       ".sk-estimator-doc-link.fitted span {\n",
       "  /* fitted */\n",
       "  background: var(--sklearn-color-fitted-level-0);\n",
       "  border: var(--sklearn-color-fitted-level-3);\n",
       "}\n",
       "\n",
       ".sk-estimator-doc-link:hover span {\n",
       "  display: block;\n",
       "}\n",
       "\n",
       "/* \"?\"-specific style due to the `<a>` HTML tag */\n",
       "\n",
       "#sk-container-id-4 a.estimator_doc_link {\n",
       "  float: right;\n",
       "  font-size: 1rem;\n",
       "  line-height: 1em;\n",
       "  font-family: monospace;\n",
       "  background-color: var(--sklearn-color-background);\n",
       "  border-radius: 1rem;\n",
       "  height: 1rem;\n",
       "  width: 1rem;\n",
       "  text-decoration: none;\n",
       "  /* unfitted */\n",
       "  color: var(--sklearn-color-unfitted-level-1);\n",
       "  border: var(--sklearn-color-unfitted-level-1) 1pt solid;\n",
       "}\n",
       "\n",
       "#sk-container-id-4 a.estimator_doc_link.fitted {\n",
       "  /* fitted */\n",
       "  border: var(--sklearn-color-fitted-level-1) 1pt solid;\n",
       "  color: var(--sklearn-color-fitted-level-1);\n",
       "}\n",
       "\n",
       "/* On hover */\n",
       "#sk-container-id-4 a.estimator_doc_link:hover {\n",
       "  /* unfitted */\n",
       "  background-color: var(--sklearn-color-unfitted-level-3);\n",
       "  color: var(--sklearn-color-background);\n",
       "  text-decoration: none;\n",
       "}\n",
       "\n",
       "#sk-container-id-4 a.estimator_doc_link.fitted:hover {\n",
       "  /* fitted */\n",
       "  background-color: var(--sklearn-color-fitted-level-3);\n",
       "}\n",
       "</style><div id=\"sk-container-id-4\" class=\"sk-top-container\"><div class=\"sk-text-repr-fallback\"><pre>RandomForestClassifier(bootstrap=False, class_weight=&#x27;balanced&#x27;, max_depth=10,\n",
       "                       max_features=&#x27;log2&#x27;, min_samples_leaf=4,\n",
       "                       min_samples_split=10, random_state=42)</pre><b>In a Jupyter environment, please rerun this cell to show the HTML representation or trust the notebook. <br />On GitHub, the HTML representation is unable to render, please try loading this page with nbviewer.org.</b></div><div class=\"sk-container\" hidden><div class=\"sk-item\"><div class=\"sk-estimator fitted sk-toggleable\"><input class=\"sk-toggleable__control sk-hidden--visually\" id=\"sk-estimator-id-4\" type=\"checkbox\" checked><label for=\"sk-estimator-id-4\" class=\"sk-toggleable__label fitted sk-toggleable__label-arrow\"><div><div>RandomForestClassifier</div></div><div><a class=\"sk-estimator-doc-link fitted\" rel=\"noreferrer\" target=\"_blank\" href=\"https://scikit-learn.org/1.6/modules/generated/sklearn.ensemble.RandomForestClassifier.html\">?<span>Documentation for RandomForestClassifier</span></a><span class=\"sk-estimator-doc-link fitted\">i<span>Fitted</span></span></div></label><div class=\"sk-toggleable__content fitted\"><pre>RandomForestClassifier(bootstrap=False, class_weight=&#x27;balanced&#x27;, max_depth=10,\n",
       "                       max_features=&#x27;log2&#x27;, min_samples_leaf=4,\n",
       "                       min_samples_split=10, random_state=42)</pre></div> </div></div></div></div>"
      ],
      "text/plain": [
       "RandomForestClassifier(bootstrap=False, class_weight='balanced', max_depth=10,\n",
       "                       max_features='log2', min_samples_leaf=4,\n",
       "                       min_samples_split=10, random_state=42)"
      ]
     },
     "execution_count": 124,
     "metadata": {},
     "output_type": "execute_result"
    }
   ],
   "source": [
    "forest = RandomForestClassifier(bootstrap= False, class_weight= 'balanced', max_depth= 10, max_features= 'log2', min_samples_leaf= 4, min_samples_split= 10, random_state=42)\n",
    "forest.fit(X_train, y_train)"
   ]
  },
  {
   "cell_type": "code",
   "execution_count": 125,
   "id": "7c7a1849",
   "metadata": {},
   "outputs": [
    {
     "name": "stdout",
     "output_type": "stream",
     "text": [
      "🔧 Best Parameters: {'class_weight': None, 'max_depth': 10, 'min_samples_leaf': 2, 'min_samples_split': 2}\n",
      "\n",
      "📊 Classification Report:\n",
      "              precision    recall  f1-score   support\n",
      "\n",
      "    No Churn       0.90      0.76      0.83      1035\n",
      "       Churn       0.54      0.77      0.64       374\n",
      "\n",
      "    accuracy                           0.77      1409\n",
      "   macro avg       0.72      0.77      0.73      1409\n",
      "weighted avg       0.81      0.77      0.78      1409\n",
      "\n"
     ]
    }
   ],
   "source": [
    "y_pred_forest = forest.predict(X_test)\n",
    "\n",
    "print(\"🔧 Best Parameters:\", grid_search.best_params_)\n",
    "print(\"\\n📊 Classification Report:\")\n",
    "print(classification_report(y_test, y_pred_forest, target_names=[\"No Churn\", \"Churn\"]))"
   ]
  },
  {
   "cell_type": "markdown",
   "id": "1d180f31",
   "metadata": {},
   "source": [
    "### Simple Random Forest changing threshold"
   ]
  },
  {
   "cell_type": "code",
   "execution_count": 126,
   "id": "e19159b2",
   "metadata": {},
   "outputs": [
    {
     "name": "stdout",
     "output_type": "stream",
     "text": [
      "📉 Threshold set to: 0.4\n",
      "              precision    recall  f1-score   support\n",
      "\n",
      "    No Churn       0.99      0.74      0.84      4139\n",
      "       Churn       0.57      0.98      0.72      1495\n",
      "\n",
      "    accuracy                           0.80      5634\n",
      "   macro avg       0.78      0.86      0.78      5634\n",
      "weighted avg       0.88      0.80      0.81      5634\n",
      "\n"
     ]
    },
    {
     "data": {
      "image/png": "[encoded data removed]",
      "text/plain": [
       "<Figure size 800x500 with 1 Axes>"
      ]
     },
     "metadata": {},
     "output_type": "display_data"
    }
   ],
   "source": [
    "# 1. Get predicted probabilities for the positive class (Churn = 1)\n",
    "y_probs = forest.predict_proba(X_train)[:, 1]\n",
    "\n",
    "# 2. Set custom threshold\n",
    "threshold = 0.4 \n",
    "y_pred_threshold = (y_probs >= threshold).astype(int)\n",
    "\n",
    "# 3. Evaluate performance\n",
    "print(f\"📉 Threshold set to: {threshold}\")\n",
    "print(classification_report(y_train, y_pred_threshold, target_names=[\"No Churn\", \"Churn\"]))\n",
    "\n",
    "# 4. (Optional) Plot Precision-Recall vs. Threshold curve\n",
    "precisions, recalls, thresholds = precision_recall_curve(y_train, y_probs)\n",
    "\n",
    "plt.figure(figsize=(8, 5))\n",
    "plt.plot(thresholds, precisions[:-1], label='Precision', color='blue')\n",
    "plt.plot(thresholds, recalls[:-1], label='Recall', color='green')\n",
    "plt.axvline(x=threshold, color='red', linestyle='--', label=f'Threshold = {threshold}')\n",
    "plt.xlabel(\"Threshold\")\n",
    "plt.ylabel(\"Score\")\n",
    "plt.title(\"Precision and Recall vs Threshold\")\n",
    "plt.legend()\n",
    "plt.grid(True)\n",
    "plt.tight_layout()\n",
    "plt.show()"
   ]
  },
  {
   "cell_type": "code",
   "execution_count": 127,
   "id": "c8295995",
   "metadata": {},
   "outputs": [
    {
     "name": "stdout",
     "output_type": "stream",
     "text": [
      "📉 Threshold set to: 0.4\n",
      "              precision    recall  f1-score   support\n",
      "\n",
      "    No Churn       0.93      0.68      0.78      1035\n",
      "       Churn       0.49      0.85      0.62       374\n",
      "\n",
      "    accuracy                           0.72      1409\n",
      "   macro avg       0.71      0.76      0.70      1409\n",
      "weighted avg       0.81      0.72      0.74      1409\n",
      "\n"
     ]
    }
   ],
   "source": [
    "# Evaluate the threshold change on the test data\n",
    "# 1. Get predicted probabilities for the positive class (Churn = 1)\n",
    "y_probs = forest.predict_proba(X_test)[:, 1]\n",
    "\n",
    "# 2. Set custom threshold\n",
    "threshold = 0.4 #After reading the graph\n",
    "y_pred_threshold = (y_probs >= threshold).astype(int)\n",
    "\n",
    "# 3. Evaluate performance\n",
    "print(f\"📉 Threshold set to: {threshold}\")\n",
    "print(classification_report(y_test, y_pred_threshold, target_names=[\"No Churn\", \"Churn\"]))"
   ]
  },
  {
   "cell_type": "markdown",
   "id": "2bc7de9c",
   "metadata": {},
   "source": [
    "### Simple Random Forest SMOTE (missing)"
   ]
  },
  {
   "cell_type": "code",
   "execution_count": null,
   "id": "e92a9fa1",
   "metadata": {},
   "outputs": [],
   "source": []
  },
  {
   "cell_type": "markdown",
   "id": "cab5b91e",
   "metadata": {},
   "source": [
    "## 📌 Conclusion on Random Forest\n",
    "\n",
    "The Random Forest model demonstrated very similar performance to decision tree with 85% recall and 49% precision"
   ]
  },
  {
   "cell_type": "markdown",
   "id": "c34085d5",
   "metadata": {},
   "source": [
    " ## 3a. Advanced Models (Naive Bayes)"
   ]
  },
  {
   "cell_type": "markdown",
   "id": "dd06e9be",
   "metadata": {},
   "source": [
    "### Simple Naive Bayes"
   ]
  },
  {
   "cell_type": "code",
   "execution_count": 128,
   "id": "6f04b616",
   "metadata": {},
   "outputs": [
    {
     "name": "stdout",
     "output_type": "stream",
     "text": [
      "              precision    recall  f1-score   support\n",
      "\n",
      "    No Churn       0.92      0.61      0.73      1035\n",
      "       Churn       0.44      0.85      0.58       374\n",
      "\n",
      "    accuracy                           0.67      1409\n",
      "   macro avg       0.68      0.73      0.66      1409\n",
      "weighted avg       0.79      0.67      0.69      1409\n",
      "\n"
     ]
    }
   ],
   "source": [
    "# Initialize the model\n",
    "nb = GaussianNB(var_smoothing=1e-9)\n",
    "\n",
    "# Fit to training data\n",
    "nb.fit(X_train, y_train)\n",
    "\n",
    "# Predict\n",
    "y_pred = nb.predict(X_test)\n",
    "\n",
    "# Evaluate\n",
    "print(classification_report(y_test, y_pred, target_names=[\"No Churn\", \"Churn\"]))"
   ]
  },
  {
   "cell_type": "code",
   "execution_count": null,
   "id": "68f790f1",
   "metadata": {},
   "outputs": [],
   "source": []
  },
  {
   "cell_type": "code",
   "execution_count": 129,
   "id": "24f058cd",
   "metadata": {},
   "outputs": [
    {
     "name": "stdout",
     "output_type": "stream",
     "text": [
      "📉 Threshold set to: 0.5\n",
      "              precision    recall  f1-score   support\n",
      "\n",
      "    No Churn       0.92      0.61      0.74      4139\n",
      "       Churn       0.44      0.86      0.59      1495\n",
      "\n",
      "    accuracy                           0.68      5634\n",
      "   macro avg       0.68      0.73      0.66      5634\n",
      "weighted avg       0.80      0.68      0.70      5634\n",
      "\n"
     ]
    },
    {
     "data": {
      "image/png": "[encoded data removed]",
      "text/plain": [
       "<Figure size 800x500 with 1 Axes>"
      ]
     },
     "metadata": {},
     "output_type": "display_data"
    }
   ],
   "source": [
    "# Changing threshold based on training\n",
    "# 1. Get predicted probabilities for the positive class (Churn = 1)\n",
    "y_probs = nb.predict_proba(X_train)[:, 1]\n",
    "\n",
    "# 2. Set custom threshold\n",
    "threshold = 0.5 \n",
    "y_pred_threshold = (y_probs >= threshold).astype(int)\n",
    "\n",
    "# 3. Evaluate performance\n",
    "print(f\"📉 Threshold set to: {threshold}\")\n",
    "print(classification_report(y_train, y_pred_threshold, target_names=[\"No Churn\", \"Churn\"]))\n",
    "\n",
    "# 4. (Optional) Plot Precision-Recall vs. Threshold curve\n",
    "precisions, recalls, thresholds = precision_recall_curve(y_train, y_probs)\n",
    "\n",
    "precision_recall_curve_draw()"
   ]
  },
  {
   "cell_type": "markdown",
   "id": "ed9726e7",
   "metadata": {},
   "source": [
    "## 📌 Conclusion on Naive Bayes\n",
    "\n",
    "The Naive Bayes model works suprisingly well with 85% recall and 44% precision"
   ]
  },
  {
   "cell_type": "code",
   "execution_count": null,
   "id": "c197d167",
   "metadata": {},
   "outputs": [],
   "source": []
  },
  {
   "cell_type": "markdown",
   "id": "406b43be",
   "metadata": {},
   "source": [
    "## 3. Advanced Models (XGBoost)"
   ]
  },
  {
   "cell_type": "code",
   "execution_count": 130,
   "id": "554a24d5",
   "metadata": {},
   "outputs": [],
   "source": [
    "# Logistic Regression Evaluation:\n",
    "def model_evalulation_metrics(y_pred):\n",
    "    print(f\"Accuracy: {accuracy_score(y_test, y_pred):.4f}\")\n",
    "    print(f\"Precision: {precision_score(y_test, y_pred):.4f}\")\n",
    "    print(f\"Recall: {recall_score(y_test, y_pred):.4f}\")\n",
    "    print(f\"F1 Score: {f1_score(y_test, y_pred):.4f}\")\n",
    "    print(\"\\nConfusion Matrix:\\n\", confusion_matrix(y_test, y_pred))\n",
    "    print(\"\\nClassification Report:\\n\", classification_report(y_test, y_pred))"
   ]
  },
  {
   "cell_type": "code",
   "execution_count": 131,
   "id": "fc34864c",
   "metadata": {},
   "outputs": [
    {
     "name": "stdout",
     "output_type": "stream",
     "text": [
      "XGBoost Metrics:\n",
      "Accuracy: 0.7970\n",
      "Precision: 0.6447\n",
      "Recall: 0.5241\n",
      "F1 Score: 0.5782\n",
      "\n",
      "Confusion Matrix:\n",
      " [[927 108]\n",
      " [178 196]]\n",
      "\n",
      "Classification Report:\n",
      "               precision    recall  f1-score   support\n",
      "\n",
      "           0       0.84      0.90      0.87      1035\n",
      "           1       0.64      0.52      0.58       374\n",
      "\n",
      "    accuracy                           0.80      1409\n",
      "   macro avg       0.74      0.71      0.72      1409\n",
      "weighted avg       0.79      0.80      0.79      1409\n",
      "\n"
     ]
    }
   ],
   "source": [
    "# GenAI scaffolding\n",
    "xgb_model = xgb.XGBClassifier(\n",
    "    n_estimators=100,      # number of trees\n",
    "    learning_rate=0.1,     # step size shrinkage\n",
    "    max_depth=5,           # max depth of a tree\n",
    "    subsample=0.8,         # row sampling\n",
    "    colsample_bytree=0.8,  # feature sampling\n",
    "    random_state=42\n",
    ")\n",
    "\n",
    "# Fit model\n",
    "xgb_model.fit(X_train, y_train)\n",
    "\n",
    "# Predict\n",
    "y_pred_xgb = xgb_model.predict(X_test)\n",
    "\n",
    "# Evaluate\n",
    "\n",
    "print(\"XGBoost Metrics:\")\n",
    "model_evalulation_metrics(y_pred = y_pred_xgb)"
   ]
  },
  {
   "cell_type": "code",
   "execution_count": 132,
   "id": "6817a554",
   "metadata": {},
   "outputs": [],
   "source": [
    "y_probs = xgb_model.predict_proba(X_test)[:, 1]\n",
    "y_pred_thresh = (y_probs >= 0.3).astype(int)  # changing the threshold to 30% because the cost of churn is much higher than the cost of a false alarm"
   ]
  },
  {
   "cell_type": "code",
   "execution_count": 133,
   "id": "9f1f923c",
   "metadata": {},
   "outputs": [
    {
     "name": "stdout",
     "output_type": "stream",
     "text": [
      "XGBoost Metrics 30% threshold:\n",
      "Accuracy: 0.7686\n",
      "Precision: 0.5465\n",
      "Recall: 0.7540\n",
      "F1 Score: 0.6337\n",
      "\n",
      "Confusion Matrix:\n",
      " [[801 234]\n",
      " [ 92 282]]\n",
      "\n",
      "Classification Report:\n",
      "               precision    recall  f1-score   support\n",
      "\n",
      "           0       0.90      0.77      0.83      1035\n",
      "           1       0.55      0.75      0.63       374\n",
      "\n",
      "    accuracy                           0.77      1409\n",
      "   macro avg       0.72      0.76      0.73      1409\n",
      "weighted avg       0.80      0.77      0.78      1409\n",
      "\n"
     ]
    }
   ],
   "source": [
    "print(\"XGBoost Metrics 30% threshold:\")\n",
    "model_evalulation_metrics(y_pred = y_pred_thresh)"
   ]
  }
 ],
 "metadata": {
  "kernelspec": {
   "display_name": "datascience_base",
   "language": "python",
   "name": "python3"
  },
  "language_info": {
   "codemirror_mode": {
    "name": "ipython",
    "version": 3
   },
   "file_extension": ".py",
   "mimetype": "text/x-python",
   "name": "python",
   "nbconvert_exporter": "python",
   "pygments_lexer": "ipython3",
   "version": "3.12.9"
  }
 },
 "nbformat": 4,
 "nbformat_minor": 5
}
