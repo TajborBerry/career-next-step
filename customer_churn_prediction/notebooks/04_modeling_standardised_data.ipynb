{
 "cells": [
  {
   "cell_type": "code",
   "execution_count": 2,
   "id": "ea212430",
   "metadata": {},
   "outputs": [],
   "source": [
    "#!pip install xgboost\n",
    "#!pip install imblearn"
   ]
  },
  {
   "cell_type": "code",
   "execution_count": 3,
   "id": "ec8ac83e",
   "metadata": {},
   "outputs": [],
   "source": [
    "import pandas as pd\n",
    "import numpy as np\n",
    "from sklearn.model_selection import train_test_split\n",
    "from sklearn.linear_model import LogisticRegression\n",
    "from sklearn.tree import DecisionTreeClassifier\n",
    "from sklearn.ensemble import RandomForestClassifier\n",
    "from sklearn.metrics import accuracy_score, precision_score, recall_score, f1_score, confusion_matrix, classification_report\n",
    "from sklearn.model_selection import GridSearchCV\n",
    "import xgboost as xgb\n",
    "from xgboost import XGBClassifier\n",
    "from sklearn.metrics import classification_report, precision_recall_curve\n",
    "import matplotlib.pyplot as plt\n",
    "from sklearn.metrics import confusion_matrix, ConfusionMatrixDisplay\n",
    "from imblearn.over_sampling import SMOTE\n",
    "from sklearn.linear_model import LogisticRegression\n",
    "from sklearn.pipeline import Pipeline\n",
    "from imblearn.pipeline import Pipeline as ImbPipeline\n",
    "from sklearn.preprocessing import StandardScaler\n",
    "from sklearn.naive_bayes import GaussianNB\n",
    "from sklearn.model_selection import cross_val_score"
   ]
  },
  {
   "cell_type": "markdown",
   "id": "65c7450a",
   "metadata": {},
   "source": [
    "## 1. Load & Preview Data"
   ]
  },
  {
   "cell_type": "code",
   "execution_count": 4,
   "id": "13ea7d94",
   "metadata": {},
   "outputs": [
    {
     "data": {
      "text/html": [
       "<div>\n",
       "<style scoped>\n",
       "    .dataframe tbody tr th:only-of-type {\n",
       "        vertical-align: middle;\n",
       "    }\n",
       "\n",
       "    .dataframe tbody tr th {\n",
       "        vertical-align: top;\n",
       "    }\n",
       "\n",
       "    .dataframe thead th {\n",
       "        text-align: right;\n",
       "    }\n",
       "</style>\n",
       "<table border=\"1\" class=\"dataframe\">\n",
       "  <thead>\n",
       "    <tr style=\"text-align: right;\">\n",
       "      <th></th>\n",
       "      <th>customerID</th>\n",
       "      <th>IsSeniorCitizen</th>\n",
       "      <th>tenure</th>\n",
       "      <th>MonthlyCharges</th>\n",
       "      <th>TotalCharges</th>\n",
       "      <th>Churn</th>\n",
       "      <th>HasPartnerOrDependents</th>\n",
       "      <th>ExpectedTotalCharges</th>\n",
       "      <th>BillingDiffPct</th>\n",
       "      <th>Churn_num</th>\n",
       "      <th>...</th>\n",
       "      <th>Contract_One year</th>\n",
       "      <th>Contract_Two year</th>\n",
       "      <th>PaperlessBilling_Yes</th>\n",
       "      <th>PaymentMethod_Credit card (automatic)</th>\n",
       "      <th>PaymentMethod_Electronic check</th>\n",
       "      <th>PaymentMethod_Mailed check</th>\n",
       "      <th>TenureGroup_Early</th>\n",
       "      <th>TenureGroup_Loyal</th>\n",
       "      <th>PackageChangeBehavior_Downgrade</th>\n",
       "      <th>PackageChangeBehavior_Upgrade</th>\n",
       "    </tr>\n",
       "  </thead>\n",
       "  <tbody>\n",
       "    <tr>\n",
       "      <th>0</th>\n",
       "      <td>7590-VHVEG</td>\n",
       "      <td>0</td>\n",
       "      <td>1</td>\n",
       "      <td>29.85</td>\n",
       "      <td>29.85</td>\n",
       "      <td>No</td>\n",
       "      <td>1</td>\n",
       "      <td>29.85</td>\n",
       "      <td>0.000000</td>\n",
       "      <td>0</td>\n",
       "      <td>...</td>\n",
       "      <td>False</td>\n",
       "      <td>False</td>\n",
       "      <td>True</td>\n",
       "      <td>False</td>\n",
       "      <td>True</td>\n",
       "      <td>False</td>\n",
       "      <td>False</td>\n",
       "      <td>False</td>\n",
       "      <td>False</td>\n",
       "      <td>False</td>\n",
       "    </tr>\n",
       "    <tr>\n",
       "      <th>1</th>\n",
       "      <td>5575-GNVDE</td>\n",
       "      <td>0</td>\n",
       "      <td>34</td>\n",
       "      <td>56.95</td>\n",
       "      <td>1889.50</td>\n",
       "      <td>No</td>\n",
       "      <td>0</td>\n",
       "      <td>1936.30</td>\n",
       "      <td>-0.024170</td>\n",
       "      <td>0</td>\n",
       "      <td>...</td>\n",
       "      <td>True</td>\n",
       "      <td>False</td>\n",
       "      <td>False</td>\n",
       "      <td>False</td>\n",
       "      <td>False</td>\n",
       "      <td>True</td>\n",
       "      <td>False</td>\n",
       "      <td>True</td>\n",
       "      <td>True</td>\n",
       "      <td>False</td>\n",
       "    </tr>\n",
       "    <tr>\n",
       "      <th>2</th>\n",
       "      <td>3668-QPYBK</td>\n",
       "      <td>0</td>\n",
       "      <td>2</td>\n",
       "      <td>53.85</td>\n",
       "      <td>108.15</td>\n",
       "      <td>Yes</td>\n",
       "      <td>0</td>\n",
       "      <td>107.70</td>\n",
       "      <td>0.004178</td>\n",
       "      <td>1</td>\n",
       "      <td>...</td>\n",
       "      <td>False</td>\n",
       "      <td>False</td>\n",
       "      <td>True</td>\n",
       "      <td>False</td>\n",
       "      <td>False</td>\n",
       "      <td>True</td>\n",
       "      <td>False</td>\n",
       "      <td>False</td>\n",
       "      <td>False</td>\n",
       "      <td>False</td>\n",
       "    </tr>\n",
       "    <tr>\n",
       "      <th>3</th>\n",
       "      <td>7795-CFOCW</td>\n",
       "      <td>0</td>\n",
       "      <td>45</td>\n",
       "      <td>42.30</td>\n",
       "      <td>1840.75</td>\n",
       "      <td>No</td>\n",
       "      <td>0</td>\n",
       "      <td>1903.50</td>\n",
       "      <td>-0.032965</td>\n",
       "      <td>0</td>\n",
       "      <td>...</td>\n",
       "      <td>True</td>\n",
       "      <td>False</td>\n",
       "      <td>False</td>\n",
       "      <td>False</td>\n",
       "      <td>False</td>\n",
       "      <td>False</td>\n",
       "      <td>False</td>\n",
       "      <td>True</td>\n",
       "      <td>True</td>\n",
       "      <td>False</td>\n",
       "    </tr>\n",
       "    <tr>\n",
       "      <th>4</th>\n",
       "      <td>9237-HQITU</td>\n",
       "      <td>0</td>\n",
       "      <td>2</td>\n",
       "      <td>70.70</td>\n",
       "      <td>151.65</td>\n",
       "      <td>Yes</td>\n",
       "      <td>0</td>\n",
       "      <td>141.40</td>\n",
       "      <td>0.072484</td>\n",
       "      <td>1</td>\n",
       "      <td>...</td>\n",
       "      <td>False</td>\n",
       "      <td>False</td>\n",
       "      <td>True</td>\n",
       "      <td>False</td>\n",
       "      <td>True</td>\n",
       "      <td>False</td>\n",
       "      <td>False</td>\n",
       "      <td>False</td>\n",
       "      <td>False</td>\n",
       "      <td>True</td>\n",
       "    </tr>\n",
       "  </tbody>\n",
       "</table>\n",
       "<p>5 rows × 40 columns</p>\n",
       "</div>"
      ],
      "text/plain": [
       "   customerID  IsSeniorCitizen  tenure  MonthlyCharges  TotalCharges Churn  \\\n",
       "0  7590-VHVEG                0       1           29.85         29.85    No   \n",
       "1  5575-GNVDE                0      34           56.95       1889.50    No   \n",
       "2  3668-QPYBK                0       2           53.85        108.15   Yes   \n",
       "3  7795-CFOCW                0      45           42.30       1840.75    No   \n",
       "4  9237-HQITU                0       2           70.70        151.65   Yes   \n",
       "\n",
       "   HasPartnerOrDependents  ExpectedTotalCharges  BillingDiffPct  Churn_num  \\\n",
       "0                       1                 29.85        0.000000          0   \n",
       "1                       0               1936.30       -0.024170          0   \n",
       "2                       0                107.70        0.004178          1   \n",
       "3                       0               1903.50       -0.032965          0   \n",
       "4                       0                141.40        0.072484          1   \n",
       "\n",
       "   ...  Contract_One year  Contract_Two year  PaperlessBilling_Yes  \\\n",
       "0  ...              False              False                  True   \n",
       "1  ...               True              False                 False   \n",
       "2  ...              False              False                  True   \n",
       "3  ...               True              False                 False   \n",
       "4  ...              False              False                  True   \n",
       "\n",
       "   PaymentMethod_Credit card (automatic)  PaymentMethod_Electronic check  \\\n",
       "0                                  False                            True   \n",
       "1                                  False                           False   \n",
       "2                                  False                           False   \n",
       "3                                  False                           False   \n",
       "4                                  False                            True   \n",
       "\n",
       "   PaymentMethod_Mailed check  TenureGroup_Early  TenureGroup_Loyal  \\\n",
       "0                       False              False              False   \n",
       "1                        True              False               True   \n",
       "2                        True              False              False   \n",
       "3                       False              False               True   \n",
       "4                       False              False              False   \n",
       "\n",
       "   PackageChangeBehavior_Downgrade  PackageChangeBehavior_Upgrade  \n",
       "0                            False                          False  \n",
       "1                             True                          False  \n",
       "2                            False                          False  \n",
       "3                             True                          False  \n",
       "4                            False                           True  \n",
       "\n",
       "[5 rows x 40 columns]"
      ]
     },
     "execution_count": 4,
     "metadata": {},
     "output_type": "execute_result"
    }
   ],
   "source": [
    "# Load the CSV\n",
    "df = pd.read_csv(\"../data/Telco_Customer_Churn_feature_engineered_v1.csv\")\n",
    "\n",
    "# Quick preview\n",
    "df.head()"
   ]
  },
  {
   "cell_type": "code",
   "execution_count": 5,
   "id": "50a761d9",
   "metadata": {},
   "outputs": [],
   "source": [
    "X = df.drop(columns=['customerID', 'Churn','Churn_num'])\n",
    "y = df['Churn_num']\n",
    "X_train, X_test, y_train, y_test = train_test_split(X, y, test_size=0.2, stratify=y, random_state=42)"
   ]
  },
  {
   "cell_type": "code",
   "execution_count": 6,
   "id": "70fdd31c",
   "metadata": {},
   "outputs": [],
   "source": [
    "smote = SMOTE(random_state=42)\n",
    "X_train_sm, y_train_sm = smote.fit_resample(X_train, y_train)"
   ]
  },
  {
   "cell_type": "code",
   "execution_count": 7,
   "id": "19c96e7b",
   "metadata": {},
   "outputs": [],
   "source": [
    "def precision_recall_curve_draw(precisions, recalls, thresholds, threshold):\n",
    "    plt.figure(figsize=(8, 5))\n",
    "    plt.plot(thresholds, precisions[:-1], label='Precision', color='blue')\n",
    "    plt.plot(thresholds, recalls[:-1], label='Recall', color='green')\n",
    "    plt.axvline(x=threshold, color='red', linestyle='--', label=f'Threshold = {threshold}')\n",
    "    plt.xlabel(\"Threshold\")\n",
    "    plt.ylabel(\"Score\")\n",
    "    plt.title(\"Precision and Recall vs Threshold\")\n",
    "    plt.legend()\n",
    "    plt.grid(True)\n",
    "    plt.tight_layout()\n",
    "    plt.show()"
   ]
  },
  {
   "cell_type": "markdown",
   "id": "1de77182",
   "metadata": {},
   "source": [
    "## 2 Standardise the data ✅"
   ]
  },
  {
   "cell_type": "code",
   "execution_count": 8,
   "id": "2d3e98ea",
   "metadata": {},
   "outputs": [],
   "source": [
    "numerical_cols = ['tenure', 'MonthlyCharges', 'TotalCharges','ExpectedTotalCharges','BillingDiffPct']\n",
    "\n",
    "# Initialize the scaler\n",
    "scaler = StandardScaler()\n",
    "\n",
    "# Fit only on training data to avoid data leakage\n",
    "X_train[numerical_cols] = scaler.fit_transform(X_train[numerical_cols])\n",
    "\n",
    "# Apply the same transformation to test data\n",
    "X_test[numerical_cols] = scaler.transform(X_test[numerical_cols])\n",
    "\n",
    "\n",
    "scaler_sm = StandardScaler()\n",
    "\n",
    "# Fit only on training data to avoid data leakage\n",
    "X_train_sm[numerical_cols] = scaler_sm.fit_transform(X_train_sm[numerical_cols])\n",
    "\n",
    "X_test_sm = X_test.copy()\n",
    "\n",
    "# Apply the same transformation to test data\n",
    "X_test_sm[numerical_cols] = scaler_sm.transform(X_test_sm[numerical_cols])"
   ]
  },
  {
   "cell_type": "markdown",
   "id": "632f14a3",
   "metadata": {},
   "source": [
    "## 3a. Model Training With Standardisation (Logistic Regression) ✅/⚠️"
   ]
  },
  {
   "cell_type": "markdown",
   "id": "72ccb189",
   "metadata": {},
   "source": [
    "### 🔍 Logistic Regression with grid search ✅"
   ]
  },
  {
   "cell_type": "code",
   "execution_count": 9,
   "id": "e04c52ee",
   "metadata": {},
   "outputs": [
    {
     "name": "stdout",
     "output_type": "stream",
     "text": [
      "🔧 Best Parameters: {'C': 0.1, 'class_weight': 'balanced', 'penalty': 'l1', 'solver': 'saga'}\n",
      "\n",
      "📊 Classification Report:\n",
      "              precision    recall  f1-score   support\n",
      "\n",
      "    No Churn       0.91      0.72      0.81      1035\n",
      "       Churn       0.51      0.81      0.63       374\n",
      "\n",
      "    accuracy                           0.75      1409\n",
      "   macro avg       0.71      0.77      0.72      1409\n",
      "weighted avg       0.81      0.75      0.76      1409\n",
      "\n"
     ]
    }
   ],
   "source": [
    "#Defining the Logistic Regression model\n",
    "log_reg = LogisticRegression(max_iter=10000, random_state = 42)\n",
    "\n",
    "# Grid of hyperparameters \n",
    "param_grid = {\n",
    "    'C': [0.01, 0.1, 1, 10],\n",
    "    'penalty': ['l1','l2'], \n",
    "    'solver': ['saga'],\n",
    "    'class_weight': ['balanced']\n",
    "}\n",
    "\n",
    "# Grid Search with recall as the scoring metric because accuracy is not a good measure in imbalanced datasets and catching churn is the business case\n",
    "grid_search = GridSearchCV(log_reg, param_grid, cv=5, scoring='recall', n_jobs=-1)\n",
    "grid_search.fit(X_train, y_train)\n",
    "\n",
    "# Best model evaluation\n",
    "best_model = grid_search.best_estimator_\n",
    "y_pred = best_model.predict(X_test)\n",
    "\n",
    "print(\"🔧 Best Parameters:\", grid_search.best_params_)\n",
    "print(\"\\n📊 Classification Report:\")\n",
    "print(classification_report(y_test, y_pred, target_names=[\"No Churn\", \"Churn\"]))\n"
   ]
  },
  {
   "cell_type": "markdown",
   "id": "8be43f97",
   "metadata": {},
   "source": [
    "### 🎯 Logistic Regression changing threshold ✅"
   ]
  },
  {
   "cell_type": "code",
   "execution_count": 10,
   "id": "83153c51",
   "metadata": {},
   "outputs": [
    {
     "name": "stdout",
     "output_type": "stream",
     "text": [
      "📉 Threshold set to: 0.4\n",
      "              precision    recall  f1-score   support\n",
      "\n",
      "    No Churn       0.94      0.64      0.76      4139\n",
      "       Churn       0.47      0.88      0.61      1495\n",
      "\n",
      "    accuracy                           0.71      5634\n",
      "   macro avg       0.70      0.76      0.69      5634\n",
      "weighted avg       0.81      0.71      0.72      5634\n",
      "\n"
     ]
    },
    {
     "data": {
      "image/png": "[encoded data removed]",
      "text/plain": [
       "<Figure size 800x500 with 1 Axes>"
      ]
     },
     "metadata": {},
     "output_type": "display_data"
    }
   ],
   "source": [
    "# Changing threshold based on training\n",
    "# 1. Get predicted probabilities for the positive class (Churn = 1)\n",
    "y_probs = best_model.predict_proba(X_train)[:, 1]\n",
    "\n",
    "# 2. Set custom threshold\n",
    "threshold = 0.4  #After reading the graph\n",
    "y_pred_threshold = (y_probs >= threshold).astype(int)\n",
    "\n",
    "# 3. Evaluate performance\n",
    "print(f\"📉 Threshold set to: {threshold}\")\n",
    "print(classification_report(y_train, y_pred_threshold, target_names=[\"No Churn\", \"Churn\"]))\n",
    "\n",
    "# 4. (Optional) Plot Precision-Recall vs. Threshold curve\n",
    "precisions, recalls, thresholds = precision_recall_curve(y_train, y_probs)\n",
    "\n",
    "precision_recall_curve_draw(precisions, recalls, thresholds, threshold)"
   ]
  },
  {
   "cell_type": "code",
   "execution_count": 11,
   "id": "2e89ee16",
   "metadata": {},
   "outputs": [
    {
     "name": "stdout",
     "output_type": "stream",
     "text": [
      "📉 Threshold set to: 0.4\n",
      "              precision    recall  f1-score   support\n",
      "\n",
      "    No Churn       0.93      0.64      0.76      1035\n",
      "       Churn       0.47      0.87      0.61       374\n",
      "\n",
      "    accuracy                           0.70      1409\n",
      "   macro avg       0.70      0.75      0.68      1409\n",
      "weighted avg       0.81      0.70      0.72      1409\n",
      "\n"
     ]
    }
   ],
   "source": [
    "# Evaluate the threshold change on the test data\n",
    "# 1. Get predicted probabilities for the positive class (Churn = 1)\n",
    "y_probs = best_model.predict_proba(X_test)[:, 1]\n",
    "\n",
    "# 2. Set custom threshold\n",
    "threshold = 0.4  #After reading the graph\n",
    "y_pred_threshold = (y_probs >= threshold).astype(int)\n",
    "\n",
    "# 3. Evaluate performance\n",
    "print(f\"📉 Threshold set to: {threshold}\")\n",
    "print(classification_report(y_test, y_pred_threshold, target_names=[\"No Churn\", \"Churn\"]))\n"
   ]
  },
  {
   "cell_type": "markdown",
   "id": "05740694",
   "metadata": {},
   "source": [
    "### 🧪 Logistic Regression SMOTE ⚠️"
   ]
  },
  {
   "cell_type": "code",
   "execution_count": 12,
   "id": "e52c13be",
   "metadata": {},
   "outputs": [
    {
     "name": "stdout",
     "output_type": "stream",
     "text": [
      "🔧 Best Parameters: {'C': 0.1, 'class_weight': 'balanced', 'penalty': 'l2', 'solver': 'saga'}\n",
      "\n",
      "📊 Classification Report:\n",
      "              precision    recall  f1-score   support\n",
      "\n",
      "    No Churn       0.95      0.15      0.26      1035\n",
      "       Churn       0.29      0.98      0.45       374\n",
      "\n",
      "    accuracy                           0.37      1409\n",
      "   macro avg       0.62      0.57      0.36      1409\n",
      "weighted avg       0.78      0.37      0.31      1409\n",
      "\n"
     ]
    }
   ],
   "source": [
    "#Defining the Logistic Regression model\n",
    "log_reg = LogisticRegression(max_iter=10000, random_state = 42)\n",
    "\n",
    "# Grid of hyperparameters \n",
    "param_grid = {\n",
    "    'C': [0.01, 0.1, 1, 10],\n",
    "    'penalty': ['l1','l2'], \n",
    "    'solver': ['saga'],\n",
    "    'class_weight': ['balanced']\n",
    "}\n",
    "\n",
    "# Grid Search with recall as the scoring metric because accuracy is not a good measure in imbalanced datasets and catching churn is the business case\n",
    "grid_search = GridSearchCV(log_reg, param_grid, cv=5, scoring='recall', n_jobs=-1)\n",
    "grid_search.fit(X_train_sm, y_train_sm)\n",
    "\n",
    "# Best model evaluation\n",
    "best_model = grid_search.best_estimator_\n",
    "y_pred = best_model.predict(X_test_sm)\n",
    "\n",
    "print(\"🔧 Best Parameters:\", grid_search.best_params_)\n",
    "print(\"\\n📊 Classification Report:\")\n",
    "print(classification_report(y_test, y_pred, target_names=[\"No Churn\", \"Churn\"]))"
   ]
  },
  {
   "cell_type": "markdown",
   "id": "c63f20ef",
   "metadata": {},
   "source": [
    "### 🎛️Logistic Regression SMOTE changing threshold ⚠️"
   ]
  },
  {
   "cell_type": "code",
   "execution_count": 24,
   "id": "e4acb0b6",
   "metadata": {},
   "outputs": [
    {
     "name": "stdout",
     "output_type": "stream",
     "text": [
      "📉 Threshold set to: 0.4\n",
      "              precision    recall  f1-score   support\n",
      "\n",
      "    No Churn       0.87      0.76      0.81      4139\n",
      "       Churn       0.79      0.89      0.84      4139\n",
      "\n",
      "    accuracy                           0.83      8278\n",
      "   macro avg       0.83      0.83      0.82      8278\n",
      "weighted avg       0.83      0.83      0.82      8278\n",
      "\n"
     ]
    },
    {
     "data": {
      "image/png": "[encoded data removed]",
      "text/plain": [
       "<Figure size 800x500 with 1 Axes>"
      ]
     },
     "metadata": {},
     "output_type": "display_data"
    }
   ],
   "source": [
    "# Changing threshold based on training\n",
    "# 1. Get predicted probabilities for the positive class (Churn = 1)\n",
    "y_probs = best_model.predict_proba(X_train_sm)[:, 1]\n",
    "\n",
    "# 2. Set custom threshold\n",
    "threshold = 0.4  #After reading the graph\n",
    "y_pred_threshold = (y_probs >= threshold).astype(int)\n",
    "\n",
    "# 3. Evaluate performance\n",
    "print(f\"📉 Threshold set to: {threshold}\")\n",
    "print(classification_report(y_train_sm, y_pred_threshold, target_names=[\"No Churn\", \"Churn\"]))\n",
    "\n",
    "# 4. (Optional) Plot Precision-Recall vs. Threshold curve\n",
    "precisions, recalls, thresholds = precision_recall_curve(y_train_sm, y_probs)\n",
    "\n",
    "precision_recall_curve_draw(precisions, recalls, thresholds, threshold)"
   ]
  },
  {
   "cell_type": "code",
   "execution_count": 25,
   "id": "6c290ced",
   "metadata": {},
   "outputs": [
    {
     "name": "stdout",
     "output_type": "stream",
     "text": [
      "📉 Threshold set to: 0.4\n",
      "              precision    recall  f1-score   support\n",
      "\n",
      "    No Churn       0.95      0.12      0.21      1035\n",
      "       Churn       0.29      0.98      0.44       374\n",
      "\n",
      "    accuracy                           0.35      1409\n",
      "   macro avg       0.62      0.55      0.33      1409\n",
      "weighted avg       0.77      0.35      0.27      1409\n",
      "\n"
     ]
    }
   ],
   "source": [
    "# Evaluate the threshold change on the test data\n",
    "# 1. Get predicted probabilities for the positive class (Churn = 1)\n",
    "y_probs = best_model.predict_proba(X_test_sm)[:, 1]\n",
    "\n",
    "# 2. Set custom threshold\n",
    "threshold = 0.4  #After reading the graph\n",
    "y_pred_threshold = (y_probs >= threshold).astype(int)\n",
    "\n",
    "# 3. Evaluate performance\n",
    "print(f\"📉 Threshold set to: {threshold}\")\n",
    "print(classification_report(y_test, y_pred_threshold, target_names=[\"No Churn\", \"Churn\"]))"
   ]
  },
  {
   "cell_type": "markdown",
   "id": "c8dbc153",
   "metadata": {},
   "source": [
    "## 📌 Conclusion on Logistic Regression\n",
    "\n",
    "The Logistic Regression model demonstrated strong performance in identifying churned customers. After extensive hyperparameter tuning and class balancing techniques, the model achieved a recall of 87% on the churn class. However, this came at the cost of precision, resulting in an overall accuracy of 47% on the churn predictions.\n",
    "\n",
    "While SMOTE yield further improvements in recall compared to class weighting and threshold adjustment alone, but the accuracy fell down to a very low level, and the model shows sign of overfitting so I would advise against the usage. It was capable of 98% recall and 29% accuracy."
   ]
  },
  {
   "cell_type": "markdown",
   "id": "18288037",
   "metadata": {},
   "source": [
    "## List of Emojis 🔍🎯🧪🎛️📌✅❌⚠️🌳🌲🧮⚡"
   ]
  },
  {
   "cell_type": "markdown",
   "id": "1efef07f",
   "metadata": {},
   "source": []
  }
 ],
 "metadata": {
  "kernelspec": {
   "display_name": "datascience_base",
   "language": "python",
   "name": "python3"
  },
  "language_info": {
   "codemirror_mode": {
    "name": "ipython",
    "version": 3
   },
   "file_extension": ".py",
   "mimetype": "text/x-python",
   "name": "python",
   "nbconvert_exporter": "python",
   "pygments_lexer": "ipython3",
   "version": "3.12.9"
  }
 },
 "nbformat": 4,
 "nbformat_minor": 5
}
